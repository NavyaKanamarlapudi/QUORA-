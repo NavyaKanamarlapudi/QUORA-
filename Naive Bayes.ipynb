{
 "cells": [
  {
   "cell_type": "code",
   "execution_count": 1,
   "metadata": {
    "_cell_guid": "b1076dfc-b9ad-4769-8c92-a6c4dae69d19",
    "_uuid": "8f2839f25d086af736a60e9eeb907d3b93b6e0e5"
   },
   "outputs": [
    {
     "data": {
      "text/html": [
       "<script type=\"text/javascript\">window.PlotlyConfig = {MathJaxConfig: 'local'};</script><script type=\"text/javascript\">if (window.MathJax) {MathJax.Hub.Config({SVG: {font: \"STIX-Web\"}});}</script><script>requirejs.config({paths: { 'plotly': ['https://cdn.plot.ly/plotly-latest.min']},});if(!window._Plotly) {require(['plotly'],function(plotly) {window._Plotly=plotly;});}</script>"
      ],
      "text/vnd.plotly.v1+html": [
       "<script type=\"text/javascript\">window.PlotlyConfig = {MathJaxConfig: 'local'};</script><script type=\"text/javascript\">if (window.MathJax) {MathJax.Hub.Config({SVG: {font: \"STIX-Web\"}});}</script><script>requirejs.config({paths: { 'plotly': ['https://cdn.plot.ly/plotly-latest.min']},});if(!window._Plotly) {require(['plotly'],function(plotly) {window._Plotly=plotly;});}</script>"
      ]
     },
     "metadata": {},
     "output_type": "display_data"
    },
    {
     "name": "stdout",
     "output_type": "stream",
     "text": [
      "['embeddings', 'train.csv', 'sample_submission.csv', 'test.csv']\n"
     ]
    }
   ],
   "source": [
    "# This Python 3 environment comes with many helpful analytics libraries installed\n",
    "# It is defined by the kaggle/python docker image: https://github.com/kaggle/docker-python\n",
    "# For example, here's several helpful packages to load in \n",
    "\n",
    "import numpy as np # linear algebra\n",
    "import pandas as pd # data processing, CSV file I/O (e.g. pd.read_csv)\n",
    "import operator\n",
    "import re\n",
    "import plotly.offline as py\n",
    "import matplotlib.pyplot as plt\n",
    "import seaborn as sns\n",
    "import plotly.graph_objs as go\n",
    "\n",
    "from pandas.io.json import json_normalize\n",
    "from plotly import tools\n",
    "py.init_notebook_mode(connected=True)\n",
    "pd.options.mode.chained_assignment = None\n",
    "pd.options.display.max_columns = 999\n",
    "color = sns.color_palette()\n",
    "np.random.seed(13)\n",
    "%matplotlib inline\n",
    "# Input data files are available in the \"../input/\" directory.\n",
    "# For example, running this (by clicking run or pressing Shift+Enter) will list the files in the input directory\n",
    "\n",
    "import os\n",
    "print(os.listdir(\"../input\"))\n",
    "\n",
    "# Any results you write to the current directory are saved as output."
   ]
  },
  {
   "cell_type": "code",
   "execution_count": 2,
   "metadata": {
    "_cell_guid": "79c7e3d0-c299-4dcb-8224-4455121ee9b0",
    "_uuid": "d629ff2d2480ee46fbb7e2d37f6b5fab8052498a"
   },
   "outputs": [
    {
     "name": "stdout",
     "output_type": "stream",
     "text": [
      "Train shape :  (1306122, 3)\n",
      "Test shape :  (56370, 2)\n"
     ]
    }
   ],
   "source": [
    "train = pd.read_csv(\"../input/train.csv\")\n",
    "test = pd.read_csv(\"../input/test.csv\")\n",
    "print(\"Train shape : \",train.shape)\n",
    "print(\"Test shape : \",test.shape)"
   ]
  },
  {
   "cell_type": "code",
   "execution_count": 3,
   "metadata": {
    "_uuid": "77ac565895d54a0ff27e4781abfb1eacd0ff91d9"
   },
   "outputs": [],
   "source": [
    "def load_embed(file):\n",
    "    def get_coefs(word,*arr): \n",
    "        return word, np.asarray(arr, dtype='float32')\n",
    "    \n",
    "    if file == '../input/embeddings/wiki-news-300d-1M/wiki-news-300d-1M.vec':\n",
    "        embeddings_index = dict(get_coefs(*o.split(\" \")) for o in open(file) if len(o)>100)\n",
    "    else:\n",
    "        embeddings_index = dict(get_coefs(*o.split(\" \")) for o in open(file, encoding='latin'))\n",
    "        \n",
    "    return embeddings_index"
   ]
  },
  {
   "cell_type": "code",
   "execution_count": 4,
   "metadata": {
    "_uuid": "126a0fcf4e21b09e2b9776029bfa8d5e8b02499b"
   },
   "outputs": [],
   "source": [
    "glove = '../input/embeddings/glove.840B.300d/glove.840B.300d.txt'\n",
    "paragram =  '../input/embeddings/paragram_300_sl999/paragram_300_sl999.txt'\n",
    "wiki_news = '../input/embeddings/wiki-news-300d-1M/wiki-news-300d-1M.vec'"
   ]
  },
  {
   "cell_type": "code",
   "execution_count": 5,
   "metadata": {
    "_uuid": "1145e21d65bea9c6610e4fc54c2d7304da6a6703"
   },
   "outputs": [
    {
     "name": "stdout",
     "output_type": "stream",
     "text": [
      "Extracting GloVe embedding\n",
      "Extracting Paragram embedding\n",
      "Extracting FastText embedding\n"
     ]
    }
   ],
   "source": [
    "print(\"Extracting GloVe embedding\")\n",
    "embed_glove = load_embed(glove)\n",
    "print(\"Extracting Paragram embedding\")\n",
    "embed_paragram = load_embed(paragram)\n",
    "print(\"Extracting FastText embedding\")\n",
    "embed_fasttext = load_embed(wiki_news)"
   ]
  },
  {
   "cell_type": "code",
   "execution_count": 6,
   "metadata": {
    "_uuid": "8e7c4aaefbbccd6214e6f8a2600d41f2a744d2f0"
   },
   "outputs": [],
   "source": [
    "def build_vocab(texts):\n",
    "    sentences = texts.apply(lambda x: x.split()).values\n",
    "    vocab = {}\n",
    "    for sentence in sentences:\n",
    "        for word in sentence:\n",
    "            try:\n",
    "                vocab[word] += 1\n",
    "            except KeyError:\n",
    "                vocab[word] = 1\n",
    "    return vocab"
   ]
  },
  {
   "cell_type": "code",
   "execution_count": 7,
   "metadata": {
    "_uuid": "2fbbe4df8369cffda3010be51ba153dd7b2867c0"
   },
   "outputs": [],
   "source": [
    "def check_coverage(vocab, embeddings_index):\n",
    "    known_words = {}\n",
    "    unknown_words = {}\n",
    "    nb_known_words = 0\n",
    "    nb_unknown_words = 0\n",
    "    for word in vocab.keys():\n",
    "        try:\n",
    "            known_words[word] = embeddings_index[word]\n",
    "            nb_known_words += vocab[word]\n",
    "        except:\n",
    "            unknown_words[word] = vocab[word]\n",
    "            nb_unknown_words += vocab[word]\n",
    "            pass\n",
    "\n",
    "    print('Found embeddings for {:.2%} of vocab'.format(len(known_words) / len(vocab)))\n",
    "    print('Found embeddings for  {:.2%} of all text'.format(nb_known_words / (nb_known_words + nb_unknown_words)))\n",
    "    unknown_words = sorted(unknown_words.items(), key=operator.itemgetter(1))[::-1]\n",
    "\n",
    "    return unknown_words"
   ]
  },
  {
   "cell_type": "code",
   "execution_count": 8,
   "metadata": {
    "_uuid": "ad127ef7e21030ef442e3a18eca6931fdcb77f86"
   },
   "outputs": [],
   "source": [
    "vocab = build_vocab(train['question_text'])"
   ]
  },
  {
   "cell_type": "code",
   "execution_count": 9,
   "metadata": {
    "_uuid": "5f6dd020c09f7339f026c4e929463980d6ab0b9d"
   },
   "outputs": [
    {
     "name": "stdout",
     "output_type": "stream",
     "text": [
      "Glove : \n",
      "Found embeddings for 33.02% of vocab\n",
      "Found embeddings for  88.15% of all text\n",
      "Paragram : \n",
      "Found embeddings for 19.54% of vocab\n",
      "Found embeddings for  72.21% of all text\n",
      "FastText : \n",
      "Found embeddings for 30.05% of vocab\n",
      "Found embeddings for  87.66% of all text\n"
     ]
    }
   ],
   "source": [
    "print(\"Glove : \")\n",
    "oov_glove = check_coverage(vocab, embed_glove)\n",
    "print(\"Paragram : \")\n",
    "oov_paragram = check_coverage(vocab, embed_paragram)\n",
    "print(\"FastText : \")\n",
    "oov_fasttext = check_coverage(vocab, embed_fasttext)"
   ]
  },
  {
   "cell_type": "code",
   "execution_count": 10,
   "metadata": {
    "_uuid": "52a5cc307d81d11ae7ad8fd8a69a00104d0d0562"
   },
   "outputs": [],
   "source": [
    "train['lowered_question'] = train['question_text'].apply(lambda x: x.lower())"
   ]
  },
  {
   "cell_type": "code",
   "execution_count": 11,
   "metadata": {
    "_uuid": "6977e4e7919d389540314b13e86371c1b6b8e0fc"
   },
   "outputs": [],
   "source": [
    "vocab_low = build_vocab(train['lowered_question'])"
   ]
  },
  {
   "cell_type": "code",
   "execution_count": 12,
   "metadata": {
    "_uuid": "1f00968b7294793959fc61883c6c28a9c848706a",
    "scrolled": true
   },
   "outputs": [
    {
     "name": "stdout",
     "output_type": "stream",
     "text": [
      "Glove : \n",
      "Found embeddings for 27.38% of vocab\n",
      "Found embeddings for  87.87% of all text\n",
      "Paragram : \n",
      "Found embeddings for 31.26% of vocab\n",
      "Found embeddings for  88.21% of all text\n",
      "FastText : \n",
      "Found embeddings for 22.02% of vocab\n",
      "Found embeddings for  87.14% of all text\n"
     ]
    }
   ],
   "source": [
    "print(\"Glove : \")\n",
    "oov_glove = check_coverage(vocab_low, embed_glove)\n",
    "print(\"Paragram : \")\n",
    "oov_paragram = check_coverage(vocab_low, embed_paragram)\n",
    "print(\"FastText : \")\n",
    "oov_fasttext = check_coverage(vocab_low, embed_fasttext)"
   ]
  },
  {
   "cell_type": "code",
   "execution_count": null,
   "metadata": {
    "_uuid": "5172cb01fa444ed2729cca62cf389b210301d347"
   },
   "outputs": [],
   "source": []
  },
  {
   "cell_type": "code",
   "execution_count": 13,
   "metadata": {
    "_uuid": "5a9727b8d4f102d835ab85f13c5796405b830d50"
   },
   "outputs": [],
   "source": [
    "def add_lower(embedding, vocab):\n",
    "    count = 0\n",
    "    for word in vocab:\n",
    "        if word in embedding and word.lower() not in embedding:  \n",
    "            embedding[word.lower()] = embedding[word]\n",
    "            count += 1\n",
    "    print(f\"Added {count} words to embedding\")"
   ]
  },
  {
   "cell_type": "code",
   "execution_count": 14,
   "metadata": {
    "_uuid": "bba741fdfeb109207918a1ff07dbb588b0c5eb15"
   },
   "outputs": [
    {
     "name": "stdout",
     "output_type": "stream",
     "text": [
      "Glove : \n",
      "Added 14725 words to embedding\n",
      "Paragram : \n",
      "Added 0 words to embedding\n",
      "FastText : \n",
      "Added 27176 words to embedding\n"
     ]
    }
   ],
   "source": [
    "print(\"Glove : \")\n",
    "add_lower(embed_glove, vocab)\n",
    "print(\"Paragram : \")\n",
    "add_lower(embed_paragram, vocab)\n",
    "print(\"FastText : \")\n",
    "add_lower(embed_fasttext, vocab)"
   ]
  },
  {
   "cell_type": "code",
   "execution_count": 15,
   "metadata": {
    "_uuid": "8010085e75bbae0c996a9a9c832c28684190adee"
   },
   "outputs": [
    {
     "name": "stdout",
     "output_type": "stream",
     "text": [
      "Glove : \n",
      "Found embeddings for 30.64% of vocab\n",
      "Found embeddings for  88.19% of all text\n",
      "Paragram : \n",
      "Found embeddings for 31.26% of vocab\n",
      "Found embeddings for  88.21% of all text\n",
      "FastText : \n",
      "Found embeddings for 28.05% of vocab\n",
      "Found embeddings for  87.73% of all text\n"
     ]
    }
   ],
   "source": [
    "print(\"Glove : \")\n",
    "oov_glove = check_coverage(vocab_low, embed_glove)\n",
    "print(\"Paragram : \")\n",
    "oov_paragram = check_coverage(vocab_low, embed_paragram)\n",
    "print(\"FastText : \")\n",
    "oov_fasttext = check_coverage(vocab_low, embed_fasttext)"
   ]
  },
  {
   "cell_type": "code",
   "execution_count": 16,
   "metadata": {
    "_uuid": "c2f08174b09e5db04a2a0773234eb54e1702b2f9"
   },
   "outputs": [
    {
     "data": {
      "text/plain": [
       "[('india?', 16394),\n",
       " (\"what's\", 13369),\n",
       " ('it?', 13158),\n",
       " ('do?', 8766),\n",
       " ('life?', 7791),\n",
       " ('why?', 7369),\n",
       " ('you?', 6314),\n",
       " ('me?', 6241),\n",
       " ('them?', 6141),\n",
       " ('time?', 5742)]"
      ]
     },
     "execution_count": 16,
     "metadata": {},
     "output_type": "execute_result"
    }
   ],
   "source": [
    "oov_glove[:10]"
   ]
  },
  {
   "cell_type": "code",
   "execution_count": 17,
   "metadata": {
    "_uuid": "fac3e3a14c09a4b9cccbd0a485fcc3a9d6c00a91"
   },
   "outputs": [
    {
     "data": {
      "text/plain": [
       "[('india?', 16394),\n",
       " (\"what's\", 13369),\n",
       " ('it?', 13158),\n",
       " ('do?', 8766),\n",
       " ('life?', 7791),\n",
       " ('why?', 7369),\n",
       " ('you?', 6314),\n",
       " ('me?', 6241),\n",
       " ('them?', 6141),\n",
       " ('time?', 5742),\n",
       " ('world?', 5525),\n",
       " ('people?', 5008),\n",
       " ('quora?', 4657),\n",
       " ('like?', 4490),\n",
       " ('for?', 4450),\n",
       " ('work?', 4219),\n",
       " ('2017?', 4050),\n",
       " ('mean?', 3980),\n",
       " ('2018?', 3594),\n",
       " (\"isn't\", 3509)]"
      ]
     },
     "execution_count": 17,
     "metadata": {},
     "output_type": "execute_result"
    }
   ],
   "source": [
    "oov_glove[:20]"
   ]
  },
  {
   "cell_type": "code",
   "execution_count": null,
   "metadata": {
    "_uuid": "fe3c67a8a3dde566d12774b716b9432a4ba57ad4"
   },
   "outputs": [],
   "source": []
  },
  {
   "cell_type": "code",
   "execution_count": 18,
   "metadata": {
    "_uuid": "8edb83bd5ad63294ed422f72cf85c730d76aaec7"
   },
   "outputs": [],
   "source": [
    "contraction_mapping = {\"ain't\": \"is not\", \"aren't\": \"are not\",\"can't\": \"cannot\", \"'cause\": \"because\",\n",
    "                       \"could've\": \"could have\", \"couldn't\": \"could not\", \"didn't\": \"did not\",\n",
    "                       \"doesn't\": \"does not\", \"don't\": \"do not\", \"hadn't\": \"had not\", \"hasn't\": \"has not\",\n",
    "                       \"haven't\": \"have not\", \"he'd\": \"he would\",\"he'll\": \"he will\", \"he's\": \"he is\",\n",
    "                       \"how'd\": \"how did\", \"how'd'y\": \"how do you\", \"how'll\": \"how will\", \"how's\": \"how is\",\n",
    "                       \"I'd\": \"I would\", \"I'd've\": \"I would have\", \"I'll\": \"I will\", \"I'll've\": \"I will have\",\n",
    "                       \"I'm\": \"I am\", \"I've\": \"I have\", \"i'd\": \"i would\", \"i'd've\": \"i would have\",\n",
    "                       \"i'll\": \"i will\",  \"i'll've\": \"i will have\",\"i'm\": \"i am\", \"i've\": \"i have\",\n",
    "                       \"isn't\": \"is not\", \"it'd\": \"it would\", \"it'd've\": \"it would have\", \"it'll\": \"it will\",\n",
    "                       \"it'll've\": \"it will have\",\"it's\": \"it is\", \"let's\": \"let us\", \"ma'am\": \"madam\",\n",
    "                       \"mayn't\": \"may not\", \"might've\": \"might have\",\"mightn't\": \"might not\",\n",
    "                       \"mightn't've\": \"might not have\", \"must've\": \"must have\", \"mustn't\": \"must not\",\n",
    "                       \"mustn't've\": \"must not have\", \"needn't\": \"need not\", \"needn't've\": \"need not have\",\n",
    "                       \"o'clock\": \"of the clock\", \"oughtn't\": \"ought not\", \"oughtn't've\": \"ought not have\",\n",
    "                       \"shan't\": \"shall not\", \"sha'n't\": \"shall not\", \"shan't've\": \"shall not have\",\n",
    "                       \"she'd\": \"she would\", \"she'd've\": \"she would have\", \"she'll\": \"she will\",\n",
    "                       \"she'll've\": \"she will have\", \"she's\": \"she is\", \"should've\": \"should have\",\n",
    "                       \"shouldn't\": \"should not\", \"shouldn't've\": \"should not have\", \"so've\": \"so have\",\n",
    "                       \"so's\": \"so as\", \"this's\": \"this is\",\"that'd\": \"that would\",\n",
    "                       \"that'd've\": \"that would have\", \"that's\": \"that is\", \"there'd\": \"there would\",\n",
    "                       \"there'd've\": \"there would have\", \"there's\": \"there is\", \"here's\": \"here is\",\n",
    "                       \"they'd\": \"they would\", \"they'd've\": \"they would have\", \"they'll\": \"they will\",\n",
    "                       \"they'll've\": \"they will have\", \"they're\": \"they are\", \"they've\": \"they have\",\n",
    "                       \"to've\": \"to have\", \"wasn't\": \"was not\", \"we'd\": \"we would\", \"we'd've\": \"we would have\",\n",
    "                       \"we'll\": \"we will\", \"we'll've\": \"we will have\", \"we're\": \"we are\", \"we've\": \"we have\",\n",
    "                       \"weren't\": \"were not\", \"what'll\": \"what will\", \"what'll've\": \"what will have\",\n",
    "                       \"what're\": \"what are\",  \"what's\": \"what is\", \"what've\": \"what have\", \"when's\": \"when is\",\n",
    "                       \"when've\": \"when have\", \"where'd\": \"where did\", \"where's\": \"where is\", \n",
    "                       \"where've\": \"where have\", \"who'll\": \"who will\", \"who'll've\": \"who will have\",\n",
    "                       \"who's\": \"who is\", \"who've\": \"who have\", \"why's\": \"why is\", \"why've\": \"why have\",\n",
    "                       \"will've\": \"will have\", \"won't\": \"will not\", \"won't've\": \"will not have\", \n",
    "                       \"would've\": \"would have\", \"wouldn't\": \"would not\", \"wouldn't've\": \"would not have\", \n",
    "                       \"y'all\": \"you all\", \"y'all'd\": \"you all would\",\"y'all'd've\": \"you all would have\",\n",
    "                       \"y'all're\": \"you all are\",\"y'all've\": \"you all have\",\"you'd\": \"you would\",\n",
    "                       \"you'd've\": \"you would have\", \"you'll\": \"you will\", \"you'll've\":\"you will have\",\n",
    "                       \"you're\": \"you are\", \"you've\": \"you have\" }"
   ]
  },
  {
   "cell_type": "code",
   "execution_count": 19,
   "metadata": {
    "_uuid": "3553d11b74b54151d9162d0fc7273811492ef54f"
   },
   "outputs": [],
   "source": [
    "def known_contractions(embed):\n",
    "    known = []\n",
    "    for contract in contraction_mapping:\n",
    "        if contract in embed:\n",
    "            known.append(contract)\n",
    "    return known\n"
   ]
  },
  {
   "cell_type": "code",
   "execution_count": 20,
   "metadata": {
    "_uuid": "860ec78258e17655d29153b6119be1d9bf730f9d"
   },
   "outputs": [
    {
     "name": "stdout",
     "output_type": "stream",
     "text": [
      "- Known Contractions -\n",
      "   Glove :\n",
      "[\"can't\", \"'cause\", \"didn't\", \"doesn't\", \"don't\", \"I'd\", \"I'll\", \"I'm\", \"I've\", \"i'd\", \"i'll\", \"i'm\", \"i've\", \"it's\", \"ma'am\", \"o'clock\", \"that's\", \"you'll\", \"you're\"]\n",
      "   Paragram :\n",
      "[\"can't\", \"'cause\", \"didn't\", \"doesn't\", \"don't\", \"i'd\", \"i'll\", \"i'm\", \"i've\", \"it's\", \"ma'am\", \"o'clock\", \"that's\", \"you'll\", \"you're\"]\n",
      "   FastText :\n",
      "[]\n"
     ]
    }
   ],
   "source": [
    "print(\"- Known Contractions -\")\n",
    "print(\"   Glove :\")\n",
    "print(known_contractions(embed_glove))\n",
    "print(\"   Paragram :\")\n",
    "print(known_contractions(embed_paragram))\n",
    "print(\"   FastText :\")\n",
    "print(known_contractions(embed_fasttext))"
   ]
  },
  {
   "cell_type": "code",
   "execution_count": 21,
   "metadata": {
    "_uuid": "961db382928fbf9d56971cabf9bfedb618a7fac7"
   },
   "outputs": [],
   "source": [
    "def clean_contractions(text, mapping):\n",
    "    specials = [\"’\", \"‘\", \"´\", \"`\"]\n",
    "    for s in specials:\n",
    "        text = text.replace(s, \"'\")\n",
    "    text = ' '.join([mapping[t] if t in mapping else t for t in text.split(\" \")])\n",
    "    return text"
   ]
  },
  {
   "cell_type": "code",
   "execution_count": 22,
   "metadata": {
    "_uuid": "9698912d600f9bdce87665ff14376bc08376e4f6"
   },
   "outputs": [],
   "source": [
    "train['treated_question'] = train['lowered_question'].apply(lambda x: clean_contractions(x, contraction_mapping))"
   ]
  },
  {
   "cell_type": "code",
   "execution_count": 23,
   "metadata": {
    "_uuid": "18a83f52c1d90e1ead7875707ab70ea247f82537"
   },
   "outputs": [
    {
     "name": "stdout",
     "output_type": "stream",
     "text": [
      "Glove : \n",
      "Found embeddings for 30.79% of vocab\n",
      "Found embeddings for  88.56% of all text\n",
      "Paragram : \n",
      "Found embeddings for 31.41% of vocab\n",
      "Found embeddings for  88.58% of all text\n",
      "FastText : \n",
      "Found embeddings for 28.19% of vocab\n",
      "Found embeddings for  88.44% of all text\n"
     ]
    }
   ],
   "source": [
    "vocab = build_vocab(train['treated_question'])\n",
    "print(\"Glove : \")\n",
    "oov_glove = check_coverage(vocab, embed_glove)\n",
    "print(\"Paragram : \")\n",
    "oov_paragram = check_coverage(vocab, embed_paragram)\n",
    "print(\"FastText : \")\n",
    "oov_fasttext = check_coverage(vocab, embed_fasttext)"
   ]
  },
  {
   "cell_type": "code",
   "execution_count": 24,
   "metadata": {
    "_uuid": "ce917620631cc15b6394a347f24487817790aee5"
   },
   "outputs": [],
   "source": [
    "punct = \"/-'?!.,#$%\\'()*+-/:;<=>@[\\\\]^_`{|}~\" + '\"\"“”’' + '∞θ÷α•à−β∅³π‘₹´°£€\\×™√²—–&'"
   ]
  },
  {
   "cell_type": "code",
   "execution_count": 25,
   "metadata": {
    "_uuid": "f6dc11769ff02185bea3e1de5a97494a06dfea89"
   },
   "outputs": [],
   "source": [
    "def unknown_punct(embed, punct):\n",
    "    unknown = ''\n",
    "    for p in punct:\n",
    "        if p not in embed:\n",
    "            unknown += p\n",
    "            unknown += ' '\n",
    "    return unknown"
   ]
  },
  {
   "cell_type": "code",
   "execution_count": 26,
   "metadata": {
    "_uuid": "eeedfe03eb64bb1ba128c8fe877643cef3da8c7a"
   },
   "outputs": [
    {
     "name": "stdout",
     "output_type": "stream",
     "text": [
      "Glove :\n",
      "“ ” ’ ∞ θ ÷ α • à − β ∅ ³ π ‘ ₹ ´ ° £ € × ™ √ ² — – \n",
      "Paragram :\n",
      "“ ” ’ ∞ θ ÷ α • à − β ∅ ³ π ‘ ₹ ´ ° £ € × ™ √ ² — – \n",
      "FastText :\n",
      "_ ` \n"
     ]
    }
   ],
   "source": [
    "print(\"Glove :\")\n",
    "print(unknown_punct(embed_glove, punct))\n",
    "print(\"Paragram :\")\n",
    "print(unknown_punct(embed_paragram, punct))\n",
    "print(\"FastText :\")\n",
    "print(unknown_punct(embed_fasttext, punct))"
   ]
  },
  {
   "cell_type": "code",
   "execution_count": 27,
   "metadata": {
    "_uuid": "6b4ff1e9a089bcd1d596d4b4209dedf8e7d29ee8"
   },
   "outputs": [],
   "source": [
    "punct_mapping = {\"‘\": \"'\", \"₹\": \"e\", \"´\": \"'\", \"°\": \"\", \"€\": \"e\", \"™\": \"tm\", \"√\": \" sqrt \", \"×\": \"x\", \"²\": \"2\", \"—\": \"-\", \"–\": \"-\", \"’\": \"'\", \"_\": \"-\", \"`\": \"'\", '“': '\"', '”': '\"', '“': '\"', \"£\": \"e\", '∞': 'infinity', 'θ': 'theta', '÷': '/', 'α': 'alpha', '•': '.', 'à': 'a', '−': '-', 'β': 'beta', '∅': '', '³': '3', 'π': 'pi', }"
   ]
  },
  {
   "cell_type": "code",
   "execution_count": 28,
   "metadata": {
    "_uuid": "9b5c444dadcaa8e5a7796ec2fffffe790b5be709"
   },
   "outputs": [],
   "source": [
    "def clean_special_chars(text, punct, mapping):\n",
    "    for p in mapping:\n",
    "        text = text.replace(p, mapping[p])\n",
    "    \n",
    "    for p in punct:\n",
    "        text = text.replace(p, f' {p} ')\n",
    "    \n",
    "    specials = {'\\u200b': ' ', '…': ' ... ', '\\ufeff': '', 'करना': '', 'है': ''}  # Other special characters that I have to deal with in last\n",
    "    for s in specials:\n",
    "        text = text.replace(s, specials[s])\n",
    "    \n",
    "    return text"
   ]
  },
  {
   "cell_type": "code",
   "execution_count": 29,
   "metadata": {
    "_uuid": "24f86e1fe6cbfc1fa3d795089cca0eba686754ef"
   },
   "outputs": [],
   "source": [
    "train['treated_question'] = train['treated_question'].apply(lambda x: clean_special_chars(x, punct, punct_mapping))"
   ]
  },
  {
   "cell_type": "code",
   "execution_count": 30,
   "metadata": {
    "_uuid": "1afea32812b173a2a07fc84caa1e8f89652dd7d3"
   },
   "outputs": [
    {
     "name": "stdout",
     "output_type": "stream",
     "text": [
      "Glove : \n",
      "Found embeddings for 69.52% of vocab\n",
      "Found embeddings for  99.58% of all text\n",
      "Paragram : \n",
      "Found embeddings for 73.99% of vocab\n",
      "Found embeddings for  99.63% of all text\n",
      "FastText : \n",
      "Found embeddings for 61.21% of vocab\n",
      "Found embeddings for  99.45% of all text\n"
     ]
    }
   ],
   "source": [
    "vocab = build_vocab(train['treated_question'])\n",
    "print(\"Glove : \")\n",
    "oov_glove = check_coverage(vocab, embed_glove)\n",
    "print(\"Paragram : \")\n",
    "oov_paragram = check_coverage(vocab, embed_paragram)\n",
    "print(\"FastText : \")\n",
    "oov_fasttext = check_coverage(vocab, embed_fasttext)"
   ]
  },
  {
   "cell_type": "code",
   "execution_count": 31,
   "metadata": {
    "_uuid": "417a1bd5e208a1e686b8cdd6ba80689a7c1ee03e"
   },
   "outputs": [
    {
     "data": {
      "text/plain": [
       "[('quorans', 858),\n",
       " ('bitsat', 562),\n",
       " ('comedk', 357),\n",
       " ('kvpy', 356),\n",
       " ('quoran', 311),\n",
       " ('wbjee', 237),\n",
       " ('articleship', 208),\n",
       " ('viteee', 186),\n",
       " ('upes', 157),\n",
       " ('fortnite', 156),\n",
       " ('marksheet', 140),\n",
       " ('afcat', 123),\n",
       " ('uceed', 123),\n",
       " ('dropshipping', 115),\n",
       " ('bhakts', 115),\n",
       " ('iitjee', 108),\n",
       " ('machedo', 108),\n",
       " ('upsee', 105),\n",
       " ('bnbr', 100),\n",
       " ('chsl', 99),\n",
       " ('amcat', 94),\n",
       " ('josaa', 93),\n",
       " ('alshamsi', 92),\n",
       " ('iitian', 91),\n",
       " ('unacademy', 86),\n",
       " ('qoura', 82),\n",
       " ('zerodha', 80),\n",
       " ('icos', 76),\n",
       " ('nmat', 76),\n",
       " ('hairfall', 73),\n",
       " ('jiit', 72),\n",
       " ('doklam', 70),\n",
       " ('kavalireddi', 69),\n",
       " ('lnmiit', 68),\n",
       " ('muoet', 66),\n",
       " ('woocommerce', 65),\n",
       " ('metoo', 64),\n",
       " ('nicmar', 62),\n",
       " ('vajiram', 60),\n",
       " ('modiji', 60),\n",
       " ('adhaar', 59),\n",
       " ('zebpay', 58),\n",
       " ('infjs', 57),\n",
       " ('elitmus', 57),\n",
       " ('srmjee', 56),\n",
       " ('hackerrank', 54),\n",
       " ('pubg', 54),\n",
       " ('gixxer', 53),\n",
       " ('awdhesh', 52),\n",
       " ('aiq', 51),\n",
       " ('sibm', 51),\n",
       " ('golang', 49),\n",
       " ('koinex', 48),\n",
       " ('mahadasha', 47),\n",
       " ('mhcet', 45),\n",
       " ('binance', 45),\n",
       " ('byju', 44),\n",
       " ('mnit', 42),\n",
       " ('srmjeee', 42),\n",
       " ('playstore', 41),\n",
       " ('ftre', 40),\n",
       " ('skripal', 40),\n",
       " ('sgsits', 40),\n",
       " ('whatare', 38),\n",
       " ('mhtcet', 38),\n",
       " ('tatkal', 38),\n",
       " ('nanodegree', 38),\n",
       " ('mastrubation', 37),\n",
       " ('pdpu', 37),\n",
       " ('howdo', 37),\n",
       " ('bmsce', 37),\n",
       " ('upse', 36),\n",
       " ('jiofi', 36),\n",
       " ('bipc', 36),\n",
       " ('jbims', 35),\n",
       " ('sarahah', 34),\n",
       " ('usict', 34),\n",
       " ('lbsnaa', 33),\n",
       " ('youtu', 33),\n",
       " ('daiict', 32),\n",
       " ('reactjs', 32),\n",
       " ('dushka', 32),\n",
       " ('tanx', 32),\n",
       " ('bittrex', 31),\n",
       " ('cdse', 31),\n",
       " ('nchmct', 31),\n",
       " ('pcod', 30),\n",
       " ('pessat', 30),\n",
       " ('passouts', 30),\n",
       " ('infps', 30),\n",
       " ('diestm', 30),\n",
       " ('codechef', 30),\n",
       " ('swiggy', 30),\n",
       " ('dream11', 30),\n",
       " ('iisers', 29),\n",
       " ('demonitisation', 29),\n",
       " ('galgotia', 28),\n",
       " ('kalpit', 28),\n",
       " ('bitconnect', 28),\n",
       " ('mppsc', 28)]"
      ]
     },
     "execution_count": 31,
     "metadata": {},
     "output_type": "execute_result"
    }
   ],
   "source": [
    "oov_fasttext[:100]"
   ]
  },
  {
   "cell_type": "code",
   "execution_count": 32,
   "metadata": {
    "_uuid": "de3adf64a2350d88c1ef97214ea549c67189049b"
   },
   "outputs": [],
   "source": [
    "mispell_dict = {'colour': 'color', 'centre': 'center', 'favourite': 'favorite',\n",
    "                'travelling': 'traveling', 'counselling': 'counseling', 'theatre': 'theater',\n",
    "                'cancelled': 'canceled', 'labour': 'labor', 'organisation': 'organization',\n",
    "                'wwii': 'world war 2', 'citicise': 'criticize', 'youtu ': 'youtube ',\n",
    "                'Qoura': 'Quora', 'sallary': 'salary', 'Whta': 'What', 'narcisist': 'narcissist', \n",
    "                'howdo': 'how do', 'whatare': 'what are', 'howcan': 'how can', 'howmuch': 'how much',\n",
    "                'howmany': 'how many', 'whydo': 'why do', 'doI': 'do I', 'theBest': 'the best',\n",
    "                'howdoes': 'how does', 'mastrubation': 'masturbation', 'mastrubate': 'masturbate',\n",
    "                \"mastrubating\": 'masturbating', 'pennis': 'penis', 'Etherium': 'Ethereum',\n",
    "                'narcissit': 'narcissist', 'bigdata': 'big data', '2k17': '2017', '2k18': '2018',\n",
    "                'qouta': 'quota', 'exboyfriend': 'ex boyfriend', 'airhostess': 'air hostess',\n",
    "                \"whst\": 'what', 'watsapp': 'whatsapp', 'demonitisation': 'demonetization',\n",
    "                'demonitization': 'demonetization', 'demonetisation': 'demonetization'}"
   ]
  },
  {
   "cell_type": "code",
   "execution_count": 33,
   "metadata": {
    "_uuid": "46de96bd81ef0708866c0f530bd6a17e9a39e481"
   },
   "outputs": [],
   "source": [
    "def correct_spelling(x, dic):\n",
    "    for word in dic.keys():\n",
    "        x = x.replace(word, dic[word])\n",
    "    return x\n"
   ]
  },
  {
   "cell_type": "code",
   "execution_count": 34,
   "metadata": {
    "_uuid": "26ecf7ca5ed4b250a667210063003439adc1123d"
   },
   "outputs": [],
   "source": [
    "train['treated_question'] = train['treated_question'].apply(lambda x: correct_spelling(x, mispell_dict))\n"
   ]
  },
  {
   "cell_type": "code",
   "execution_count": 35,
   "metadata": {
    "_uuid": "82704fe59a040aad83dedf0d5d2c9325e242e020"
   },
   "outputs": [
    {
     "name": "stdout",
     "output_type": "stream",
     "text": [
      "Glove : \n",
      "Found embeddings for 69.52% of vocab\n",
      "Found embeddings for  99.58% of all text\n",
      "Paragram : \n",
      "Found embeddings for 73.99% of vocab\n",
      "Found embeddings for  99.63% of all text\n",
      "FastText : \n",
      "Found embeddings for 61.21% of vocab\n",
      "Found embeddings for  99.45% of all text\n"
     ]
    }
   ],
   "source": [
    "vocab = build_vocab(train['treated_question'])\n",
    "print(\"Glove : \")\n",
    "oov_glove = check_coverage(vocab, embed_glove)\n",
    "print(\"Paragram : \")\n",
    "oov_paragram = check_coverage(vocab, embed_paragram)\n",
    "print(\"FastText : \")\n",
    "oov_fasttext = check_coverage(vocab, embed_fasttext)"
   ]
  },
  {
   "cell_type": "code",
   "execution_count": 36,
   "metadata": {
    "_uuid": "b0852e1c685db2aa68f39b3ee57d12c096f088d3"
   },
   "outputs": [
    {
     "data": {
      "text/html": [
       "<div>\n",
       "<style scoped>\n",
       "    .dataframe tbody tr th:only-of-type {\n",
       "        vertical-align: middle;\n",
       "    }\n",
       "\n",
       "    .dataframe tbody tr th {\n",
       "        vertical-align: top;\n",
       "    }\n",
       "\n",
       "    .dataframe thead th {\n",
       "        text-align: right;\n",
       "    }\n",
       "</style>\n",
       "<table border=\"1\" class=\"dataframe\">\n",
       "  <thead>\n",
       "    <tr style=\"text-align: right;\">\n",
       "      <th></th>\n",
       "      <th>qid</th>\n",
       "      <th>question_text</th>\n",
       "      <th>target</th>\n",
       "      <th>lowered_question</th>\n",
       "      <th>treated_question</th>\n",
       "    </tr>\n",
       "  </thead>\n",
       "  <tbody>\n",
       "    <tr>\n",
       "      <th>0</th>\n",
       "      <td>00002165364db923c7e6</td>\n",
       "      <td>How did Quebec nationalists see their province...</td>\n",
       "      <td>0</td>\n",
       "      <td>how did quebec nationalists see their province...</td>\n",
       "      <td>how did quebec nationalists see their province...</td>\n",
       "    </tr>\n",
       "    <tr>\n",
       "      <th>1</th>\n",
       "      <td>000032939017120e6e44</td>\n",
       "      <td>Do you have an adopted dog, how would you enco...</td>\n",
       "      <td>0</td>\n",
       "      <td>do you have an adopted dog, how would you enco...</td>\n",
       "      <td>do you have an adopted dog ,  how would you en...</td>\n",
       "    </tr>\n",
       "    <tr>\n",
       "      <th>2</th>\n",
       "      <td>0000412ca6e4628ce2cf</td>\n",
       "      <td>Why does velocity affect time? Does velocity a...</td>\n",
       "      <td>0</td>\n",
       "      <td>why does velocity affect time? does velocity a...</td>\n",
       "      <td>why does velocity affect time ?  does velocity...</td>\n",
       "    </tr>\n",
       "    <tr>\n",
       "      <th>3</th>\n",
       "      <td>000042bf85aa498cd78e</td>\n",
       "      <td>How did Otto von Guericke used the Magdeburg h...</td>\n",
       "      <td>0</td>\n",
       "      <td>how did otto von guericke used the magdeburg h...</td>\n",
       "      <td>how did otto von guericke used the magdeburg h...</td>\n",
       "    </tr>\n",
       "    <tr>\n",
       "      <th>4</th>\n",
       "      <td>0000455dfa3e01eae3af</td>\n",
       "      <td>Can I convert montra helicon D to a mountain b...</td>\n",
       "      <td>0</td>\n",
       "      <td>can i convert montra helicon d to a mountain b...</td>\n",
       "      <td>can i convert montra helicon d to a mountain b...</td>\n",
       "    </tr>\n",
       "  </tbody>\n",
       "</table>\n",
       "</div>"
      ],
      "text/plain": [
       "                    qid                                      question_text  \\\n",
       "0  00002165364db923c7e6  How did Quebec nationalists see their province...   \n",
       "1  000032939017120e6e44  Do you have an adopted dog, how would you enco...   \n",
       "2  0000412ca6e4628ce2cf  Why does velocity affect time? Does velocity a...   \n",
       "3  000042bf85aa498cd78e  How did Otto von Guericke used the Magdeburg h...   \n",
       "4  0000455dfa3e01eae3af  Can I convert montra helicon D to a mountain b...   \n",
       "\n",
       "   target                                   lowered_question  \\\n",
       "0       0  how did quebec nationalists see their province...   \n",
       "1       0  do you have an adopted dog, how would you enco...   \n",
       "2       0  why does velocity affect time? does velocity a...   \n",
       "3       0  how did otto von guericke used the magdeburg h...   \n",
       "4       0  can i convert montra helicon d to a mountain b...   \n",
       "\n",
       "                                    treated_question  \n",
       "0  how did quebec nationalists see their province...  \n",
       "1  do you have an adopted dog ,  how would you en...  \n",
       "2  why does velocity affect time ?  does velocity...  \n",
       "3  how did otto von guericke used the magdeburg h...  \n",
       "4  can i convert montra helicon d to a mountain b...  "
      ]
     },
     "execution_count": 36,
     "metadata": {},
     "output_type": "execute_result"
    }
   ],
   "source": [
    "train.head()"
   ]
  },
  {
   "cell_type": "code",
   "execution_count": 37,
   "metadata": {
    "_uuid": "4c8e6ab80ed5bc384faf841d9cabe9bd3915502a"
   },
   "outputs": [
    {
     "data": {
      "text/html": [
       "<div>\n",
       "<style scoped>\n",
       "    .dataframe tbody tr th:only-of-type {\n",
       "        vertical-align: middle;\n",
       "    }\n",
       "\n",
       "    .dataframe tbody tr th {\n",
       "        vertical-align: top;\n",
       "    }\n",
       "\n",
       "    .dataframe thead th {\n",
       "        text-align: right;\n",
       "    }\n",
       "</style>\n",
       "<table border=\"1\" class=\"dataframe\">\n",
       "  <thead>\n",
       "    <tr style=\"text-align: right;\">\n",
       "      <th></th>\n",
       "      <th>qid</th>\n",
       "      <th>question_text</th>\n",
       "      <th>target</th>\n",
       "      <th>lowered_question</th>\n",
       "      <th>treated_question</th>\n",
       "    </tr>\n",
       "  </thead>\n",
       "  <tbody>\n",
       "    <tr>\n",
       "      <th>1306093</th>\n",
       "      <td>fffeba722d9b371bd1b9</td>\n",
       "      <td>How is it to have intimate relation with your ...</td>\n",
       "      <td>1</td>\n",
       "      <td>how is it to have intimate relation with your ...</td>\n",
       "      <td>how is it to have intimate relation with your ...</td>\n",
       "    </tr>\n",
       "    <tr>\n",
       "      <th>1306094</th>\n",
       "      <td>fffee269360dd0d3947a</td>\n",
       "      <td>Why is it when singers have lyrics about voice...</td>\n",
       "      <td>1</td>\n",
       "      <td>why is it when singers have lyrics about voice...</td>\n",
       "      <td>why is it when singers have lyrics about voice...</td>\n",
       "    </tr>\n",
       "    <tr>\n",
       "      <th>1306099</th>\n",
       "      <td>ffff0e4ea1bb6e16feec</td>\n",
       "      <td>Do pakis smell of curry and shit?</td>\n",
       "      <td>1</td>\n",
       "      <td>do pakis smell of curry and shit?</td>\n",
       "      <td>do pakis smell of curry and shit ?</td>\n",
       "    </tr>\n",
       "    <tr>\n",
       "      <th>1306103</th>\n",
       "      <td>ffff3f0a2449ffe4b9ff</td>\n",
       "      <td>Isn't Trump right after all? Why should the US...</td>\n",
       "      <td>1</td>\n",
       "      <td>isn't trump right after all? why should the us...</td>\n",
       "      <td>is not trump right after all ?  why should the...</td>\n",
       "    </tr>\n",
       "    <tr>\n",
       "      <th>1306112</th>\n",
       "      <td>ffffa5b0fa76431c063f</td>\n",
       "      <td>Are you ashamed of being an Indian?</td>\n",
       "      <td>1</td>\n",
       "      <td>are you ashamed of being an indian?</td>\n",
       "      <td>are you ashamed of being an indian ?</td>\n",
       "    </tr>\n",
       "  </tbody>\n",
       "</table>\n",
       "</div>"
      ],
      "text/plain": [
       "                          qid  \\\n",
       "1306093  fffeba722d9b371bd1b9   \n",
       "1306094  fffee269360dd0d3947a   \n",
       "1306099  ffff0e4ea1bb6e16feec   \n",
       "1306103  ffff3f0a2449ffe4b9ff   \n",
       "1306112  ffffa5b0fa76431c063f   \n",
       "\n",
       "                                             question_text  target  \\\n",
       "1306093  How is it to have intimate relation with your ...       1   \n",
       "1306094  Why is it when singers have lyrics about voice...       1   \n",
       "1306099                  Do pakis smell of curry and shit?       1   \n",
       "1306103  Isn't Trump right after all? Why should the US...       1   \n",
       "1306112                Are you ashamed of being an Indian?       1   \n",
       "\n",
       "                                          lowered_question  \\\n",
       "1306093  how is it to have intimate relation with your ...   \n",
       "1306094  why is it when singers have lyrics about voice...   \n",
       "1306099                  do pakis smell of curry and shit?   \n",
       "1306103  isn't trump right after all? why should the us...   \n",
       "1306112                are you ashamed of being an indian?   \n",
       "\n",
       "                                          treated_question  \n",
       "1306093  how is it to have intimate relation with your ...  \n",
       "1306094  why is it when singers have lyrics about voice...  \n",
       "1306099                do pakis smell of curry and shit ?   \n",
       "1306103  is not trump right after all ?  why should the...  \n",
       "1306112              are you ashamed of being an indian ?   "
      ]
     },
     "execution_count": 37,
     "metadata": {},
     "output_type": "execute_result"
    }
   ],
   "source": [
    "sincere_questions = train[train['target'] == 0]\n",
    "insincere_questions = train[train['target'] == 1]\n",
    "insincere_questions.tail(5)"
   ]
  },
  {
   "cell_type": "markdown",
   "metadata": {
    "_uuid": "64d601323c9cdcfcf6dfa4d95a000b3e3469b674"
   },
   "source": [
    "Now let us try to create new features"
   ]
  },
  {
   "cell_type": "markdown",
   "metadata": {
    "_uuid": "894eca7c6135a47520e051a140a67eb37c51ac03"
   },
   "source": [
    "## Average Length of Sincere vs. Insincere"
   ]
  },
  {
   "cell_type": "code",
   "execution_count": 38,
   "metadata": {
    "_uuid": "b682a901ee0d651548424520c9f9865efdf521c0"
   },
   "outputs": [],
   "source": [
    "sincere_questions['length'] = sincere_questions['question_text'].apply(lambda x : len(x))\n",
    "insincere_questions['length'] = insincere_questions['question_text'].apply(lambda x : len(x))\n",
    "train['length'] = train['question_text'].apply(lambda x : len(x))"
   ]
  },
  {
   "cell_type": "markdown",
   "metadata": {
    "_uuid": "460c9c170e2841267884a02340834237cf26196f"
   },
   "source": [
    "Seems like length doesn't explain insincerity but certainly has some information to add to the context. lets check the highest length question"
   ]
  },
  {
   "cell_type": "code",
   "execution_count": 39,
   "metadata": {
    "_uuid": "cc606e05f4f0d06f02d3481022cc3f2c7c8ed972",
    "scrolled": false
   },
   "outputs": [
    {
     "name": "stdout",
     "output_type": "stream",
     "text": [
      "what is  [ math ]   \\  frac {   \\  int  -   { 1x ^ 5 }  ^  { 3x ^  {   -  5 }  }    \\  tan (   \\  tan (  {   \\  boxed {   \\  int  -   { 1x ^ 0 }  ^  { 1x ^ 2 }    \\  sum  -   {   \\  varpi = 1 }  ^  {   \\  infty }    \\  int  -   { 2x ^  {   -  3 }  }  ^  { 2x ^ 2 }    \\  sum  -   {   \\  alpha = 7 }  ^  {   \\  infty }    \\  underbrace {   \\  sqrt [ 2 ]  { 1x ^ 5 }  }   -   {   \\  text { gauss  '  s law of theoretical probability .  }  }  d  \\  tau dx }  }  ^  { 1x ^ 0 }  )  )  d  \\  mu }  {   \\  int  -   { 2x ^  {   -  3 }  }  ^  { 1x ^ 5 }    \\  cos (   \\  int  -   { 2x ^ 2 }  ^  { 1x ^  {   -  3 }  }    \\  frac {   \\  sqrt [ 2 ]  {   \\  overbrace {   \\  underbrace {   \\  frac { 3x ^ 3 + 3x ^ 5 }  {   \\  sqrt [ 3 ]  { 2x ^  {   -  3 }  }  }  }   -   {   \\  text { gauss  '  s law of theoretical probability .  }  }    \\  times   \\  overbrace {   \\  tan ( 2x ^ 0 )  }  ^  {   \\  text { gauss  '  s law of theoretical probability .  }  }   -    \\  sum  -   { 4 = 7 }  ^  {   \\  infty }    \\  boxed { 3x ^  {   -  5 }  }  }  ^  {   \\  text { inverse function .  }  }  }  }  {  {   \\  boxed {   \\  int  -   { 2x ^ 2 }  ^  { 2x ^ 4 }  3x ^ 1 d9 }    \\  div   \\  sum  -   { 6 = 6 }  ^  {   \\  infty }    \\  sqrt [ 3 ]  { 2x ^ 2 }  +   \\  sqrt [ 4 ]  {   \\  sin ( 2x ^ 0 + 3x ^ 0 )  }  }  ^  { 2x ^  {   -  4 }  }  +   \\  boxed {   \\  frac {   \\  vec {   \\  boxed {   \\  sum  -   {   \\  gamma = 10 }  ^  {   \\  infty }  1x ^  {   -  5 }  }  }  }  {   \\  frac {   \\  sum  -   {   \\  iota = 2 }  ^  {   \\  infty }  1x ^  {   -  5 }   -    \\  frac { 3x ^  {   -  1 }  }  { 1x ^  {   -  4 }  }  }  {   \\  sin (   \\  tan ( 3x ^  {   -  2 }  )  )  }  }  }  }    \\  times   \\  boxed {   \\  sqrt [ 2 ]  {  {  {  {   \\  sqrt [ 5 ]  { 2x ^ 5 }  }  ^  { 2x ^  {   -  1 }  }  }  ^  { 2x ^  {   -  1 }  }    \\  div   \\  sum  -   {   \\  chi = 6 }  ^  {   \\  infty }    \\  int  -   { 1x ^ 4 }  ^  { 2x ^  {   -  4 }  }  3x ^ 2 d  \\  vartheta +  { 2x ^  {   -  3 }  }  ^  { 2x ^  {   -  5 }  }  }  ^  { 3x ^  {   -  4 }  }  }  }  d  \\  mu )  d  \\  iota }  [   /  math ]  ? \n"
     ]
    },
    {
     "data": {
      "text/html": [
       "<div>\n",
       "<style scoped>\n",
       "    .dataframe tbody tr th:only-of-type {\n",
       "        vertical-align: middle;\n",
       "    }\n",
       "\n",
       "    .dataframe tbody tr th {\n",
       "        vertical-align: top;\n",
       "    }\n",
       "\n",
       "    .dataframe thead th {\n",
       "        text-align: right;\n",
       "    }\n",
       "</style>\n",
       "<table border=\"1\" class=\"dataframe\">\n",
       "  <thead>\n",
       "    <tr style=\"text-align: right;\">\n",
       "      <th></th>\n",
       "      <th>qid</th>\n",
       "      <th>question_text</th>\n",
       "      <th>target</th>\n",
       "      <th>lowered_question</th>\n",
       "      <th>treated_question</th>\n",
       "      <th>length</th>\n",
       "    </tr>\n",
       "  </thead>\n",
       "  <tbody>\n",
       "    <tr>\n",
       "      <th>443216</th>\n",
       "      <td>56da6b6875d686b48fde</td>\n",
       "      <td>What is [math]\\frac{\\int_{1x^5}^{3x^{-5}} \\tan...</td>\n",
       "      <td>1</td>\n",
       "      <td>what is [math]\\frac{\\int_{1x^5}^{3x^{-5}} \\tan...</td>\n",
       "      <td>what is  [ math ]   \\  frac {   \\  int  -   { ...</td>\n",
       "      <td>1017</td>\n",
       "    </tr>\n",
       "  </tbody>\n",
       "</table>\n",
       "</div>"
      ],
      "text/plain": [
       "                         qid  \\\n",
       "443216  56da6b6875d686b48fde   \n",
       "\n",
       "                                            question_text  target  \\\n",
       "443216  What is [math]\\frac{\\int_{1x^5}^{3x^{-5}} \\tan...       1   \n",
       "\n",
       "                                         lowered_question  \\\n",
       "443216  what is [math]\\frac{\\int_{1x^5}^{3x^{-5}} \\tan...   \n",
       "\n",
       "                                         treated_question  length  \n",
       "443216  what is  [ math ]   \\  frac {   \\  int  -   { ...    1017  "
      ]
     },
     "execution_count": 39,
     "metadata": {},
     "output_type": "execute_result"
    }
   ],
   "source": [
    "print(train.iloc[443216]['treated_question'])\n",
    "train[train['length'] == train['length'].max()]"
   ]
  },
  {
   "cell_type": "code",
   "execution_count": 40,
   "metadata": {
    "_uuid": "01016ef82744f6c8a652b87b9792a311c0b5eda5"
   },
   "outputs": [
    {
     "name": "stdout",
     "output_type": "stream",
     "text": [
      "The  0 Th percentile is= 1.0\n",
      "The  10 Th percentile is= 34.0\n",
      "The  20 Th percentile is= 42.0\n",
      "The  30 Th percentile is= 48.0\n",
      "The  40 Th percentile is= 54.0\n",
      "The  50 Th percentile is= 60.0\n",
      "The  60 Th percentile is= 68.0\n",
      "The  70 Th percentile is= 78.0\n",
      "The  80 Th percentile is= 94.0\n",
      "The  90 Th percentile is= 122.0\n",
      "The  100 Th percentile is= 1017.0\n"
     ]
    }
   ],
   "source": [
    "for i in range(0,101,10):\n",
    "    print('The ',i,'Th percentile is=',train.length.quantile(i/100))"
   ]
  },
  {
   "cell_type": "code",
   "execution_count": 41,
   "metadata": {
    "_uuid": "28a5be8c7ac685c215ed641d61be843f828210a5"
   },
   "outputs": [
    {
     "name": "stdout",
     "output_type": "stream",
     "text": [
      "The  90 Th percentile is= 122.0\n",
      "The  91 Th percentile is= 127.0\n",
      "The  92 Th percentile is= 131.0\n",
      "The  93 Th percentile is= 137.0\n",
      "The  94 Th percentile is= 142.0\n",
      "The  95 Th percentile is= 148.0\n",
      "The  96 Th percentile is= 155.0\n",
      "The  97 Th percentile is= 169.0\n",
      "The  98 Th percentile is= 189.0\n",
      "The  99 Th percentile is= 219.0\n",
      "The  100 Th percentile is= 1017.0\n"
     ]
    }
   ],
   "source": [
    "for i in range(90,101,1):\n",
    "    print('The ',i,'Th percentile is=',train.length.quantile(i/100))"
   ]
  },
  {
   "cell_type": "code",
   "execution_count": 42,
   "metadata": {
    "_uuid": "d974787cc89ce3e3f6f398453282d33cbec7c586",
    "scrolled": true
   },
   "outputs": [
    {
     "name": "stdout",
     "output_type": "stream",
     "text": [
      "The  99.0 Th percentile is= 219.0\n",
      "The  99.1 Th percentile is= 223.0\n",
      "The  99.2 Th percentile is= 227.0\n",
      "The  99.3 Th percentile is= 231.0\n",
      "The  99.4 Th percentile is= 235.0\n",
      "The  99.5 Th percentile is= 239.0\n",
      "The  99.6 Th percentile is= 242.0\n",
      "The  99.7 Th percentile is= 245.0\n",
      "The  99.8 Th percentile is= 247.0\n",
      "The  99.9 Th percentile is= 249.0\n",
      "The  100.0 Th percentile is= 1017.0\n"
     ]
    }
   ],
   "source": [
    "for i in range(990,1001,1):\n",
    "    print('The ',i/10,'Th percentile is=',train.length.quantile(i/1000))"
   ]
  },
  {
   "cell_type": "code",
   "execution_count": 43,
   "metadata": {
    "_uuid": "f4651c6c0c1bc1c80f7ef8ecfe7cfd7595f556eb"
   },
   "outputs": [
    {
     "name": "stdout",
     "output_type": "stream",
     "text": [
      ">> Generating Count Based And Demographical Features\n"
     ]
    }
   ],
   "source": [
    "from tqdm import tqdm # I love this handy tool! \n",
    "print(\">> Generating Count Based And Demographical Features\")\n",
    "for df in ([train]):\n",
    "    df['length'] = df['question_text'].apply(lambda x : len(x))\n",
    "    #df['capitals'] = df['question_text'].apply(lambda comment: sum(1 for c in comment if c.isupper()))\n",
    "    #df['caps_vs_length'] = df.apply(lambda row: float(row['capitals'])/float(row['length']),axis=1)\n",
    "    #df['num_exclamation_marks'] = df['question_text'].apply(lambda comment: comment.count('!'))\n",
    "    df['num_question_marks'] = df['question_text'].apply(lambda comment: comment.count('?'))\n",
    "    df['num_punctuation'] = df['question_text'].apply(lambda comment: sum(comment.count(w) for w in '.,;:'))\n",
    "    df['num_symbols'] = df['question_text'].apply(lambda comment: sum(comment.count(w) for w in '*&$%'))\n",
    "    df['num_words'] = df['question_text'].apply(lambda comment: len(comment.split()))\n",
    "    df['num_unique_words'] = df['question_text'].apply(lambda comment: len(set(w for w in comment.split())))\n",
    "    df['words_vs_unique'] = df['num_unique_words'] / df['num_words']\n",
    "    df['num_smilies'] = df['question_text'].apply(lambda comment: sum(comment.count(w) for w in (':-)', ':)', ';-)', ';)')))\n",
    "    df['num_sad'] = df['question_text'].apply(lambda comment: sum(comment.count(w) for w in (':-<', ':()', ';-()', ';(')))"
   ]
  },
  {
   "cell_type": "code",
   "execution_count": 44,
   "metadata": {
    "_uuid": "79595fac1e5f3646fe200ee44c965a88c28a34e7"
   },
   "outputs": [
    {
     "data": {
      "text/html": [
       "<div>\n",
       "<style scoped>\n",
       "    .dataframe tbody tr th:only-of-type {\n",
       "        vertical-align: middle;\n",
       "    }\n",
       "\n",
       "    .dataframe tbody tr th {\n",
       "        vertical-align: top;\n",
       "    }\n",
       "\n",
       "    .dataframe thead th {\n",
       "        text-align: right;\n",
       "    }\n",
       "</style>\n",
       "<table border=\"1\" class=\"dataframe\">\n",
       "  <thead>\n",
       "    <tr style=\"text-align: right;\">\n",
       "      <th></th>\n",
       "      <th>target</th>\n",
       "      <th>lowered_question</th>\n",
       "      <th>treated_question</th>\n",
       "      <th>length</th>\n",
       "      <th>num_question_marks</th>\n",
       "      <th>num_punctuation</th>\n",
       "      <th>num_symbols</th>\n",
       "      <th>num_words</th>\n",
       "      <th>num_unique_words</th>\n",
       "      <th>words_vs_unique</th>\n",
       "      <th>num_smilies</th>\n",
       "      <th>num_sad</th>\n",
       "    </tr>\n",
       "  </thead>\n",
       "  <tbody>\n",
       "    <tr>\n",
       "      <th>0</th>\n",
       "      <td>0</td>\n",
       "      <td>how did quebec nationalists see their province...</td>\n",
       "      <td>how did quebec nationalists see their province...</td>\n",
       "      <td>72</td>\n",
       "      <td>1</td>\n",
       "      <td>0</td>\n",
       "      <td>0</td>\n",
       "      <td>13</td>\n",
       "      <td>13</td>\n",
       "      <td>1.000000</td>\n",
       "      <td>0</td>\n",
       "      <td>0</td>\n",
       "    </tr>\n",
       "    <tr>\n",
       "      <th>1</th>\n",
       "      <td>0</td>\n",
       "      <td>do you have an adopted dog, how would you enco...</td>\n",
       "      <td>do you have an adopted dog ,  how would you en...</td>\n",
       "      <td>81</td>\n",
       "      <td>1</td>\n",
       "      <td>1</td>\n",
       "      <td>0</td>\n",
       "      <td>16</td>\n",
       "      <td>15</td>\n",
       "      <td>0.937500</td>\n",
       "      <td>0</td>\n",
       "      <td>0</td>\n",
       "    </tr>\n",
       "    <tr>\n",
       "      <th>2</th>\n",
       "      <td>0</td>\n",
       "      <td>why does velocity affect time? does velocity a...</td>\n",
       "      <td>why does velocity affect time ?  does velocity...</td>\n",
       "      <td>67</td>\n",
       "      <td>2</td>\n",
       "      <td>0</td>\n",
       "      <td>0</td>\n",
       "      <td>10</td>\n",
       "      <td>8</td>\n",
       "      <td>0.800000</td>\n",
       "      <td>0</td>\n",
       "      <td>0</td>\n",
       "    </tr>\n",
       "    <tr>\n",
       "      <th>3</th>\n",
       "      <td>0</td>\n",
       "      <td>how did otto von guericke used the magdeburg h...</td>\n",
       "      <td>how did otto von guericke used the magdeburg h...</td>\n",
       "      <td>57</td>\n",
       "      <td>1</td>\n",
       "      <td>0</td>\n",
       "      <td>0</td>\n",
       "      <td>9</td>\n",
       "      <td>9</td>\n",
       "      <td>1.000000</td>\n",
       "      <td>0</td>\n",
       "      <td>0</td>\n",
       "    </tr>\n",
       "    <tr>\n",
       "      <th>4</th>\n",
       "      <td>0</td>\n",
       "      <td>can i convert montra helicon d to a mountain b...</td>\n",
       "      <td>can i convert montra helicon d to a mountain b...</td>\n",
       "      <td>77</td>\n",
       "      <td>1</td>\n",
       "      <td>0</td>\n",
       "      <td>0</td>\n",
       "      <td>15</td>\n",
       "      <td>15</td>\n",
       "      <td>1.000000</td>\n",
       "      <td>0</td>\n",
       "      <td>0</td>\n",
       "    </tr>\n",
       "    <tr>\n",
       "      <th>5</th>\n",
       "      <td>0</td>\n",
       "      <td>is gaza slowly becoming auschwitz, dachau or t...</td>\n",
       "      <td>is gaza slowly becoming auschwitz ,  dachau or...</td>\n",
       "      <td>72</td>\n",
       "      <td>1</td>\n",
       "      <td>1</td>\n",
       "      <td>0</td>\n",
       "      <td>10</td>\n",
       "      <td>10</td>\n",
       "      <td>1.000000</td>\n",
       "      <td>0</td>\n",
       "      <td>0</td>\n",
       "    </tr>\n",
       "    <tr>\n",
       "      <th>6</th>\n",
       "      <td>0</td>\n",
       "      <td>why does quora automatically ban conservative ...</td>\n",
       "      <td>why does quora automatically ban conservative ...</td>\n",
       "      <td>113</td>\n",
       "      <td>1</td>\n",
       "      <td>1</td>\n",
       "      <td>0</td>\n",
       "      <td>18</td>\n",
       "      <td>17</td>\n",
       "      <td>0.944444</td>\n",
       "      <td>0</td>\n",
       "      <td>0</td>\n",
       "    </tr>\n",
       "    <tr>\n",
       "      <th>7</th>\n",
       "      <td>0</td>\n",
       "      <td>is it crazy if i wash or wipe my groceries off...</td>\n",
       "      <td>is it crazy if i wash or wipe my groceries off...</td>\n",
       "      <td>69</td>\n",
       "      <td>1</td>\n",
       "      <td>1</td>\n",
       "      <td>0</td>\n",
       "      <td>14</td>\n",
       "      <td>14</td>\n",
       "      <td>1.000000</td>\n",
       "      <td>0</td>\n",
       "      <td>0</td>\n",
       "    </tr>\n",
       "  </tbody>\n",
       "</table>\n",
       "</div>"
      ],
      "text/plain": [
       "   target                                   lowered_question  \\\n",
       "0       0  how did quebec nationalists see their province...   \n",
       "1       0  do you have an adopted dog, how would you enco...   \n",
       "2       0  why does velocity affect time? does velocity a...   \n",
       "3       0  how did otto von guericke used the magdeburg h...   \n",
       "4       0  can i convert montra helicon d to a mountain b...   \n",
       "5       0  is gaza slowly becoming auschwitz, dachau or t...   \n",
       "6       0  why does quora automatically ban conservative ...   \n",
       "7       0  is it crazy if i wash or wipe my groceries off...   \n",
       "\n",
       "                                    treated_question  length  \\\n",
       "0  how did quebec nationalists see their province...      72   \n",
       "1  do you have an adopted dog ,  how would you en...      81   \n",
       "2  why does velocity affect time ?  does velocity...      67   \n",
       "3  how did otto von guericke used the magdeburg h...      57   \n",
       "4  can i convert montra helicon d to a mountain b...      77   \n",
       "5  is gaza slowly becoming auschwitz ,  dachau or...      72   \n",
       "6  why does quora automatically ban conservative ...     113   \n",
       "7  is it crazy if i wash or wipe my groceries off...      69   \n",
       "\n",
       "   num_question_marks  num_punctuation  num_symbols  num_words  \\\n",
       "0                   1                0            0         13   \n",
       "1                   1                1            0         16   \n",
       "2                   2                0            0         10   \n",
       "3                   1                0            0          9   \n",
       "4                   1                0            0         15   \n",
       "5                   1                1            0         10   \n",
       "6                   1                1            0         18   \n",
       "7                   1                1            0         14   \n",
       "\n",
       "   num_unique_words  words_vs_unique  num_smilies  num_sad  \n",
       "0                13         1.000000            0        0  \n",
       "1                15         0.937500            0        0  \n",
       "2                 8         0.800000            0        0  \n",
       "3                 9         1.000000            0        0  \n",
       "4                15         1.000000            0        0  \n",
       "5                10         1.000000            0        0  \n",
       "6                17         0.944444            0        0  \n",
       "7                14         1.000000            0        0  "
      ]
     },
     "execution_count": 44,
     "metadata": {},
     "output_type": "execute_result"
    }
   ],
   "source": [
    "train[train.columns[2:]].head(8)"
   ]
  },
  {
   "cell_type": "code",
   "execution_count": 45,
   "metadata": {
    "_uuid": "b6ceaad23a9a4cd1c501a790997844deb460c257"
   },
   "outputs": [
    {
     "name": "stdout",
     "output_type": "stream",
     "text": [
      ">> Words in bad_word list: 458\n"
     ]
    }
   ],
   "source": [
    "# List Of Bad Words by Google-Profanity Words \n",
    "bad_words = ['cockknocker', 'n1gger', 'ing', 'fukker', 'nympho', 'fucking', 'gook', 'freex', 'arschloch', 'fistfucked', 'chinc', 'raunch', 'fellatio', 'splooge', 'nutsack', 'lmfao', 'wigger', 'bastard', 'asses', 'fistfuckings', 'blue', 'waffle', 'beeyotch', 'pissin', 'dominatrix', 'fisting', 'vullva','ass','vagina','fucked','fuck', 'paki', 'cyberfucker', 'chuj', 'penuus', 'masturbate', 'penis','boob', 'fucks', 'sucked', 'fuckingshit','motherfucker', 'feces', 'panty', 'coital', 'wh00r.', 'whore', 'condom', 'hells', 'foreskin', 'wanker', 'hoer', 'sh1tz', 'shittings', 'wtf', 'recktum', 'dick*', 'porn', 'pasty', 'spik', 'phukked', 'assfuck', 'xxx', 'nigger*', 'ugly', 's_h_i_t', 'mamhoon', 'shit','pornos', 'masturbate','masturbation' ,'mothafucks', 'Mother', 'Fukkah', 'chink', 'pussy', 'motherfucker','palace', 'azazel', 'fistfucking', 'ass-fucker', 'shag', 'chicks', 'duche', 'orgies', 'vag1na','orgasm', 'molest', 'bollock', 'a-hole', 'seduce', 'Cock*', 'dog-fucker', 'shitz', 'Mother', 'Fucker', 'penial', 'bitch', 'junky', 'orifice', '5hit', 'kunilingus', 'cuntbag', 'hump', 'butt', 'fuck', 'titwank', 'schaffer', 'cracker', 'f.u.c.k', 'breasts', 'd1ld0', 'polac', 'boobs', 'ritard', 'fuckup', 'rape', 'hard', 'on', 'skanks', 'coksucka', 'cl1t', 'herpy', 's.o.b.', 'Motha', 'Fucker', 'penus', 'Fukker', 'p.u.s.s.y.', 'faggitt', 'b!tch', 'doosh', 'titty', 'pr1k', 'r-tard', 'gigolo', 'perse', 'lezzies', 'bollock*', 'pedophiliac', 'Ass', 'Monkey', 'mothafucker','sex', 'amcik', 'b*tch', 'beaner', 'masterbat*', 'fucka', 'phuk', 'menses', 'pedophile', 'climax', 'cocksucking', 'fingerfucked', 'asswhole', 'basterdz', 'cahone', 'ahole', 'dickflipper', 'diligaf', 'Lesbian', 'sperm', 'pisser', 'dykes', 'Skanky', 'puuker', 'gtfo', 'orgasim', 'd0ng', 'testicle*', 'pen1s', 'piss-off', '@$$', 'fuck', 'trophy', 'arse*', 'fag', 'organ', 'potty', 'queerz', 'fannybandit', 'muthafuckaz', 'booger', 'pussypounder', 'titt', 'fuckoff', 'bootee', 'schlong', 'spunk', 'rumprammer', 'weed', 'bi7ch', 'pusse', 'blow', 'job', 'kusi*', 'assbanged', 'dumbass', 'kunts', 'chraa', 'cock', 'sucker', 'l3i+ch', 'cabron', 'arrse', 'cnut', 'how', 'to', 'murdep', 'fcuk', 'phuked', 'gang-bang', 'kuksuger', 'mothafuckers', 'ghey', 'clit', 'licker', 'feg', 'ma5terbate', 'd0uche', 'pcp', 'ejaculate', 'nigur', 'clits', 'd0uch3', 'b00bs', 'fucked', 'assbang', 'mutha', 'goddamned', 'cazzo', 'lmao', 'godamn', 'kill', 'coon', 'penis-breath', 'kyke', 'heshe', 'homo', 'tawdry', 'pissing', 'cumshot', 'motherfucker', 'menstruation', 'n1gr', 'rectus', 'oral', 'twats', 'scrot', 'God', 'damn', 'jerk', 'nigga', 'motherfuckin', 'kawk', 'homey', 'hooters', 'rump', 'dickheads', 'scrud', 'fist', 'fuck', 'carpet', 'muncher', 'cipa', 'cocaine', 'fanyy', 'frigga', 'massa', '5h1t', 'brassiere', 'inbred', 'spooge', 'shitface', 'tush', 'Fuken', 'boiolas', 'fuckass', 'wop*', 'cuntlick', 'fucker', 'bodily', 'bullshits', 'hom0', 'sumofabiatch', 'jackass', 'dilld0', 'puuke', 'cums', 'pakie', 'cock-sucker', 'pubic', 'pron', 'puta', 'penas', 'weiner', 'vaj1na', 'mthrfucker', 'souse', 'loin', 'clitoris', 'f.ck', 'dickface', 'rectal', 'whored', 'bookie', 'chota', 'bags', 'sh!t', 'pornography', 'spick', 'seamen', 'Phukker', 'beef', 'curtain', 'eat', 'hair', 'pie', 'mother', 'fucker', 'faigt', 'yeasty', 'Clit', 'kraut', 'CockSucker', 'Ekrem*', 'screwing', 'scrote', 'fubar', 'knob', 'end', 'sleazy', 'dickwhipper', 'ass', 'fuck', 'fellate', 'lesbos', 'nobjokey', 'dogging', 'fuck', 'hole', 'hymen', 'damn', 'dego', 'sphencter', 'queef*', 'gaylord', 'va1jina', 'a55', 'fuck', 'douchebag', 'blowjob', 'mibun', 'fucking', 'dago', 'heroin', 'tw4t', 'raper', 'muff', 'fitt*', 'wetback*', 'mo-fo', 'fuk*', 'klootzak', 'sux', 'damnit', 'pimmel', 'assh0lez', 'cntz', 'fux', 'gonads', 'bullshit', 'nigg3r', 'fack', 'weewee', 'shi+', 'shithead', 'pecker', 'Shytty', 'wh0re', 'a2m', 'kkk', 'penetration', 'kike', 'naked', 'kooch', 'ejaculation', 'bang', 'hoare', 'jap', 'foad', 'queef', 'buttwipe', 'Shity', 'dildo', 'dickripper', 'crackwhore', 'beaver', 'kum', 'sh!+', 'qweers', 'cocksuka', 'sexy', 'masterbating', 'peeenus', 'gays', 'cocksucks', 'b17ch', 'nad', 'j3rk0ff', 'fannyflaps', 'God-damned', 'masterbate', 'erotic', 'sadism', 'turd', 'flipping', 'the', 'bird', 'schizo', 'whiz', 'fagg1t', 'cop', 'some', 'wood', 'banger', 'Shyty', 'f', 'you', 'scag', 'soused', 'scank', 'clitorus', 'kumming', 'quim', 'penis', 'bestial', 'bimbo', 'gfy', 'spiks', 'shitings', 'phuking', 'paddy', 'mulkku', 'anal', 'leakage', 'bestiality', 'smegma', 'bull', 'shit', 'pillu*', 'schmuck', 'cuntsicle', 'fistfucker', 'shitdick', 'dirsa', 'm0f0']\n",
    "print(\">> Words in bad_word list:\", len(bad_words))"
   ]
  },
  {
   "cell_type": "code",
   "execution_count": 46,
   "metadata": {
    "_uuid": "167f3b4e705800d48bda7ad6526974b2031672d5"
   },
   "outputs": [
    {
     "name": "stdout",
     "output_type": "stream",
     "text": [
      ">> Generating Features on Bad Words\n"
     ]
    }
   ],
   "source": [
    "print(\">> Generating Features on Bad Words\")\n",
    "for df in ([train]):\n",
    "    df[\"badwordcount\"] = df['question_text'].apply(lambda comment: sum(comment.count(w) for w in bad_words))\n",
    "    df['num_chars'] =    df['question_text'].apply(len)\n",
    "    df[\"normchar_badwords\"] = df[\"badwordcount\"]/df['num_chars']\n",
    "    df[\"normword_badwords\"] = df[\"badwordcount\"]/df['num_words']"
   ]
  },
  {
   "cell_type": "code",
   "execution_count": 47,
   "metadata": {
    "_uuid": "03224594d2fc07064c1c982ed49b888d2ac388dc"
   },
   "outputs": [
    {
     "data": {
      "text/html": [
       "<div>\n",
       "<style scoped>\n",
       "    .dataframe tbody tr th:only-of-type {\n",
       "        vertical-align: middle;\n",
       "    }\n",
       "\n",
       "    .dataframe tbody tr th {\n",
       "        vertical-align: top;\n",
       "    }\n",
       "\n",
       "    .dataframe thead th {\n",
       "        text-align: right;\n",
       "    }\n",
       "</style>\n",
       "<table border=\"1\" class=\"dataframe\">\n",
       "  <thead>\n",
       "    <tr style=\"text-align: right;\">\n",
       "      <th></th>\n",
       "      <th>badwordcount</th>\n",
       "      <th>num_chars</th>\n",
       "      <th>num_words</th>\n",
       "      <th>normchar_badwords</th>\n",
       "      <th>normword_badwords</th>\n",
       "    </tr>\n",
       "  </thead>\n",
       "  <tbody>\n",
       "    <tr>\n",
       "      <th>0</th>\n",
       "      <td>4</td>\n",
       "      <td>72</td>\n",
       "      <td>13</td>\n",
       "      <td>0.055556</td>\n",
       "      <td>0.307692</td>\n",
       "    </tr>\n",
       "    <tr>\n",
       "      <th>1</th>\n",
       "      <td>4</td>\n",
       "      <td>81</td>\n",
       "      <td>16</td>\n",
       "      <td>0.049383</td>\n",
       "      <td>0.250000</td>\n",
       "    </tr>\n",
       "    <tr>\n",
       "      <th>2</th>\n",
       "      <td>4</td>\n",
       "      <td>67</td>\n",
       "      <td>10</td>\n",
       "      <td>0.059701</td>\n",
       "      <td>0.400000</td>\n",
       "    </tr>\n",
       "    <tr>\n",
       "      <th>3</th>\n",
       "      <td>3</td>\n",
       "      <td>57</td>\n",
       "      <td>9</td>\n",
       "      <td>0.052632</td>\n",
       "      <td>0.333333</td>\n",
       "    </tr>\n",
       "    <tr>\n",
       "      <th>4</th>\n",
       "      <td>6</td>\n",
       "      <td>77</td>\n",
       "      <td>15</td>\n",
       "      <td>0.077922</td>\n",
       "      <td>0.400000</td>\n",
       "    </tr>\n",
       "    <tr>\n",
       "      <th>5</th>\n",
       "      <td>2</td>\n",
       "      <td>72</td>\n",
       "      <td>10</td>\n",
       "      <td>0.027778</td>\n",
       "      <td>0.200000</td>\n",
       "    </tr>\n",
       "    <tr>\n",
       "      <th>6</th>\n",
       "      <td>5</td>\n",
       "      <td>113</td>\n",
       "      <td>18</td>\n",
       "      <td>0.044248</td>\n",
       "      <td>0.277778</td>\n",
       "    </tr>\n",
       "    <tr>\n",
       "      <th>7</th>\n",
       "      <td>3</td>\n",
       "      <td>69</td>\n",
       "      <td>14</td>\n",
       "      <td>0.043478</td>\n",
       "      <td>0.214286</td>\n",
       "    </tr>\n",
       "  </tbody>\n",
       "</table>\n",
       "</div>"
      ],
      "text/plain": [
       "   badwordcount  num_chars  num_words  normchar_badwords  normword_badwords\n",
       "0             4         72         13           0.055556           0.307692\n",
       "1             4         81         16           0.049383           0.250000\n",
       "2             4         67         10           0.059701           0.400000\n",
       "3             3         57          9           0.052632           0.333333\n",
       "4             6         77         15           0.077922           0.400000\n",
       "5             2         72         10           0.027778           0.200000\n",
       "6             5        113         18           0.044248           0.277778\n",
       "7             3         69         14           0.043478           0.214286"
      ]
     },
     "execution_count": 47,
     "metadata": {},
     "output_type": "execute_result"
    }
   ],
   "source": [
    "train[['badwordcount','num_chars','num_words','normchar_badwords','normword_badwords']].head(8)"
   ]
  },
  {
   "cell_type": "code",
   "execution_count": 48,
   "metadata": {
    "_uuid": "0c378f62b6a12d597c0f6e046265dd08f9d26ca2"
   },
   "outputs": [],
   "source": [
    "Country = [ 'United States' ,'Afghanistan', 'Albania', 'Algeria', 'American Samoa', 'Andorra',\n",
    "     'Angola',\n",
    "     'Anguilla',\n",
    "     'Antarctica',\n",
    "     'Antigua And Barbuda',\n",
    "     'Argentina',\n",
    "     'Armenia',\n",
    "     'Aruba',\n",
    "     'Australia',\n",
    "     'Austria',\n",
    "     'Azerbaijan',\n",
    "     'Bahamas',\n",
    "     'Bahrain',\n",
    "     'Bangladesh',\n",
    "     'Barbados',\n",
    "     'Belarus',\n",
    "     'Belgium',\n",
    "     'Belize',\n",
    "     'Benin',\n",
    "     'Bermuda',\n",
    "     'Bhutan',\n",
    "     'Bolivia',\n",
    "     'Bosnia And Herzegowina',\n",
    "     'Botswana',\n",
    "     'Bouvet Island',\n",
    "     'Brazil',\n",
    "     'Brunei Darussalam',\n",
    "     'Bulgaria',\n",
    "     'Burkina Faso',\n",
    "     'Burundi',\n",
    "     'Cambodia',\n",
    "     'Cameroon',\n",
    "     'Canada',\n",
    "     'Cape Verde',\n",
    "     'Cayman Islands',\n",
    "     'Central African Rep',\n",
    "     'Chad',\n",
    "     'Chile',\n",
    "     'China',\n",
    "    'Christmas Island',\n",
    "     'Cocos Islands',\n",
    "     'Colombia',\n",
    "     'Comoros',\n",
    "     'Congo',\n",
    "    'Cook Islands',\n",
    "    'Costa Rica',\n",
    "     'Cote D`ivoire',\n",
    "     'Croatia',\n",
    "     'Cuba',\n",
    "     'Cyprus',\n",
    "     'Czech Republic',\n",
    "    'Denmark',\n",
    "     'Djibouti',\n",
    "     'Dominica',\n",
    "    'Dominican Republic',\n",
    "     'East Timor',\n",
    "     'Ecuador',\n",
    "     'Egypt',\n",
    "     'El Salvador',\n",
    "     'Equatorial Guinea',\n",
    "     'Eritrea',\n",
    "     'Estonia',\n",
    "     'Ethiopia',\n",
    "     'Falkland Islands',\n",
    "     'Faroe Islands',\n",
    "     'Fiji',\n",
    "     'Finland',\n",
    "     'France',\n",
    "     'French Guiana',\n",
    "     'French Polynesia',\n",
    "    'French S. Territories',\n",
    "     'Gabon',\n",
    "     'Gambia',\n",
    "     'Georgia',\n",
    "     'Germany',\n",
    "     'Ghana',\n",
    "     'Gibraltar',\n",
    "     'Greece',\n",
    "     'Greenland',\n",
    "     'Grenada',\n",
    "     'Guadeloupe',\n",
    "     'Guam',\n",
    "     'Guatemala',\n",
    "     'Guinea',\n",
    "     'Guinea-bissau',\n",
    "     'Guyana',\n",
    "     'Haiti',\n",
    "     'Honduras',\n",
    "     'Hong Kong',\n",
    "     'Hungary',\n",
    "    'Iceland',\n",
    "     'India',\n",
    "     'Indonesia',\n",
    "     'Iran',\n",
    "    'Iraq',\n",
    "    'Ireland',\n",
    "     'Israel',\n",
    "     'Italy',\n",
    "    'Jamaica',\n",
    "     'Japan',\n",
    "     'Jordan',\n",
    "     'Kazakhstan',\n",
    "     'Kenya',\n",
    "    'Kiribati',\n",
    "     'North Korea ',\n",
    "     'South Korea ',\n",
    "     'Kuwait',\n",
    "     'Kyrgyzstan',\n",
    "    'Laos',\n",
    "     'Latvia',\n",
    "     'Lebanon',\n",
    "     'Lesotho',\n",
    "     'Liberia',\n",
    "     'Libya',\n",
    "     'Liechtenstein',\n",
    "     'Lithuania',\n",
    "    'Luxembourg',\n",
    "     'Macau',\n",
    "     'Macedonia',\n",
    "     'Madagascar',\n",
    "     'Malawi',\n",
    "     'Malaysia',\n",
    "     'Maldives',\n",
    "     'Mali',\n",
    "     'Malta',\n",
    "    'Marshall Islands',\n",
    "    'Martinique',\n",
    "     'Mauritania',\n",
    "     'Mauritius',\n",
    "     'Mayotte',\n",
    "     'Mexico',\n",
    "     'Micronesia',\n",
    "     'Moldova',\n",
    "     'Monaco',\n",
    "     'Mongolia',\n",
    "     'Montserrat',\n",
    "     'Morocco',\n",
    "     'Mozambique',\n",
    "     'Myanmar',\n",
    "     'Namibia',\n",
    "    'Nauru',\n",
    "    'Nepal',\n",
    "     'Netherlands',\n",
    "     'Netherlands Antilles',\n",
    "     'New Caledonia',\n",
    "     'New Zealand',\n",
    "     'Nicaragua',\n",
    "    'Niger',\n",
    "     'Nigeria',\n",
    "     'Niue',\n",
    "     'Norfolk Island',\n",
    "     'Northern Mariana Islands',\n",
    "    'Norway',\n",
    "    'Oman',\n",
    "     'Pakistan',\n",
    "     'Palau',\n",
    "     'Panama',\n",
    "     'Papua New Guinea',\n",
    "    'Paraguay',\n",
    "     'Peru',\n",
    "     'Philippines',\n",
    "     'Pitcairn',\n",
    "     'Poland',\n",
    "     'Portugal',\n",
    "     'Puerto Rico',\n",
    "     'Qatar',\n",
    "     'Reunion',\n",
    "     'Romania',\n",
    "     'Russian Federation',\n",
    "     'Rwanda',\n",
    "     'Saint Kitts And Nevis',\n",
    "     'Saint Lucia',\n",
    "     'St Vincent/Grenadines',\n",
    "     'Samoa',\n",
    "     'San Marino',\n",
    "     'Sao Tome',\n",
    "     'Saudi Arabia',\n",
    "     'Senegal',\n",
    "     'Seychelles',\n",
    "     'Sierra Leone',\n",
    "     'Singapore',\n",
    "     'Slovakia',\n",
    "     'Slovenia',\n",
    "     'Solomon Islands',\n",
    "     'Somalia',\n",
    "     'South Africa',\n",
    "     'Spain',\n",
    "     'Sri Lanka',\n",
    "     'St. Helena',\n",
    "     'St.Pierre',\n",
    "     'Sudan',\n",
    "     'Suriname',\n",
    "     'Swaziland',\n",
    "    'Sweden',\n",
    "     'Switzerland',\n",
    "     'Syrian Arab Republic',\n",
    "     'Taiwan',\n",
    "    'Tajikistan',\n",
    "     'Tanzania',\n",
    "     'Thailand',\n",
    "     'Togo',\n",
    "     'Tokelau',\n",
    "    'Tonga',\n",
    "     'Trinidad And Tobago',\n",
    "     'Tunisia',\n",
    "     'Turkey',\n",
    "    'Turkmenistan',\n",
    "    'Tuvalu',\n",
    "     'Uganda',\n",
    "     'Ukraine',\n",
    "     'United Arab Emirates',\n",
    "     'United Kingdom',\n",
    "     'Uruguay',\n",
    "     'Uzbekistan',\n",
    "     'Vanuatu',\n",
    "    'Vatican City State',\n",
    "     'Venezuela',\n",
    "     'Vietnam',\n",
    "     'Virgin Islands ',\n",
    "     'Western Sahara',\n",
    "     'Yemen',\n",
    "     'Yugoslavia',\n",
    "     'Zaire',\n",
    "     'Zambia',\n",
    "     'Zimbabwe']"
   ]
  },
  {
   "cell_type": "code",
   "execution_count": 49,
   "metadata": {
    "_uuid": "db1fdfb1c6418e4cac4240bea1b3dfe323727d94"
   },
   "outputs": [],
   "source": [
    "country_names=[i.lower() for i in Country]"
   ]
  },
  {
   "cell_type": "code",
   "execution_count": 50,
   "metadata": {
    "_uuid": "b0e509df44d2d8577d3e357cd69ab47bc6834fb8"
   },
   "outputs": [
    {
     "name": "stdout",
     "output_type": "stream",
     "text": [
      "230\n"
     ]
    }
   ],
   "source": [
    "print(len(country_names))"
   ]
  },
  {
   "cell_type": "code",
   "execution_count": 51,
   "metadata": {
    "_uuid": "70d468e95536d46f5992a24c4535969cfaa6b709"
   },
   "outputs": [
    {
     "name": "stdout",
     "output_type": "stream",
     "text": [
      ">> Generating Feature on country names\n"
     ]
    }
   ],
   "source": [
    "print(\">> Generating Feature on country names\")\n",
    "for df in ([train]):\n",
    "    df[\"countrycount\"] = df['question_text'].apply(lambda comment: sum(comment.count(w) for w in country_names))\n"
   ]
  },
  {
   "cell_type": "code",
   "execution_count": 52,
   "metadata": {
    "_uuid": "5370ec7b5299d2b620c731eafc6e3d25b30089bc"
   },
   "outputs": [
    {
     "data": {
      "text/plain": [
       "0    1294959\n",
       "1      10627\n",
       "2        488\n",
       "3         37\n",
       "4         11\n",
       "Name: countrycount, dtype: int64"
      ]
     },
     "execution_count": 52,
     "metadata": {},
     "output_type": "execute_result"
    }
   ],
   "source": [
    "train['countrycount'].value_counts()"
   ]
  },
  {
   "cell_type": "code",
   "execution_count": null,
   "metadata": {
    "_uuid": "94201fecbc6622897ea38b8bd07cbde715cb76ca"
   },
   "outputs": [],
   "source": []
  },
  {
   "cell_type": "markdown",
   "metadata": {
    "_uuid": "d4e622be167e83510e18cbb28d6c0f3c55dfde8b"
   },
   "source": [
    "## Tagging Parts Of Speech And More Feature Engineering..\n",
    "\n",
    "I suspect that the insincere questions have significant adverbs/adjective that makes them toxic. I am hopeful that these features might model understand various POS structures in the question_text\n"
   ]
  },
  {
   "cell_type": "code",
   "execution_count": 53,
   "metadata": {
    "_uuid": "024b572fe8b39ec8b1702dfbebf42cc9280690a1"
   },
   "outputs": [],
   "source": [
    "import string\n",
    "from nltk import pos_tag\n",
    "from nltk.corpus import stopwords\n",
    "from nltk.tokenize import TweetTokenizer\n",
    "\n",
    "def tag_part_of_speech(text):\n",
    "    text_splited = text.split(' ')\n",
    "    text_splited = [''.join(c for c in s if c not in string.punctuation) for s in text_splited]\n",
    "    text_splited = [s for s in text_splited if s]\n",
    "    pos_list = pos_tag(text_splited)\n",
    "    noun_count = len([w for w in pos_list if w[1] in ('NN','NNP','NNPS','NNS')])\n",
    "    adjective_count = len([w for w in pos_list if w[1] in ('JJ','JJR','JJS')])\n",
    "    verb_count = len([w for w in pos_list if w[1] in ('VB','VBD','VBG','VBN','VBP','VBZ')])\n",
    "    return[noun_count, adjective_count, verb_count]"
   ]
  },
  {
   "cell_type": "code",
   "execution_count": 54,
   "metadata": {
    "_uuid": "e16c6ba04f1972ebdf94f457ad6a5fd3de0e23f7"
   },
   "outputs": [
    {
     "name": "stdout",
     "output_type": "stream",
     "text": [
      ">> Generating POS Features\n"
     ]
    }
   ],
   "source": [
    "print(\">> Generating POS Features\")\n",
    "for df in ([train]):\n",
    "    df['nouns'], df['adjectives'], df['verbs'] = zip(*df['treated_question'].apply(\n",
    "        lambda comment: tag_part_of_speech(comment)))\n",
    "    df['nouns_vs_length'] = df['nouns'] / df['length']\n",
    "    df['adjectives_vs_length'] = df['adjectives'] / df['length']\n",
    "    df['verbs_vs_length'] = df['verbs'] /df['length']\n",
    "    df['nouns_vs_words'] = df['nouns'] / df['num_words']\n",
    "    df['adjectives_vs_words'] = df['adjectives'] / df['num_words']\n",
    "    df['verbs_vs_words'] = df['verbs'] / df['num_words']\n",
    "    # More Handy Features\n",
    "    df[\"count_words_title\"] = df[\"treated_question\"].apply(lambda x: len([w for w in str(x).split() if w.istitle()]))\n",
    "    df[\"mean_word_len\"] = df[\"treated_question\"].apply(lambda x: np.mean([len(w) for w in str(x).split()]))\n",
    "    df['punct_percent']= df['num_punctuation']*100/df['num_words']"
   ]
  },
  {
   "cell_type": "code",
   "execution_count": 55,
   "metadata": {
    "_uuid": "4225100938cdec93863e4a2c9f49391d25c151c5"
   },
   "outputs": [
    {
     "data": {
      "text/html": [
       "<div>\n",
       "<style scoped>\n",
       "    .dataframe tbody tr th:only-of-type {\n",
       "        vertical-align: middle;\n",
       "    }\n",
       "\n",
       "    .dataframe tbody tr th {\n",
       "        vertical-align: top;\n",
       "    }\n",
       "\n",
       "    .dataframe thead th {\n",
       "        text-align: right;\n",
       "    }\n",
       "</style>\n",
       "<table border=\"1\" class=\"dataframe\">\n",
       "  <thead>\n",
       "    <tr style=\"text-align: right;\">\n",
       "      <th></th>\n",
       "      <th>nouns</th>\n",
       "      <th>nouns_vs_length</th>\n",
       "      <th>adjectives_vs_length</th>\n",
       "      <th>verbs_vs_length</th>\n",
       "      <th>nouns_vs_words</th>\n",
       "      <th>adjectives_vs_words</th>\n",
       "      <th>verbs_vs_words</th>\n",
       "      <th>count_words_title</th>\n",
       "      <th>mean_word_len</th>\n",
       "      <th>punct_percent</th>\n",
       "    </tr>\n",
       "  </thead>\n",
       "  <tbody>\n",
       "    <tr>\n",
       "      <th>0</th>\n",
       "      <td>4</td>\n",
       "      <td>0.055556</td>\n",
       "      <td>0.000000</td>\n",
       "      <td>0.041667</td>\n",
       "      <td>0.307692</td>\n",
       "      <td>0.000000</td>\n",
       "      <td>0.230769</td>\n",
       "      <td>0</td>\n",
       "      <td>4.285714</td>\n",
       "      <td>0.000000</td>\n",
       "    </tr>\n",
       "    <tr>\n",
       "      <th>1</th>\n",
       "      <td>2</td>\n",
       "      <td>0.024691</td>\n",
       "      <td>0.000000</td>\n",
       "      <td>0.074074</td>\n",
       "      <td>0.125000</td>\n",
       "      <td>0.000000</td>\n",
       "      <td>0.375000</td>\n",
       "      <td>0</td>\n",
       "      <td>3.666667</td>\n",
       "      <td>6.250000</td>\n",
       "    </tr>\n",
       "    <tr>\n",
       "      <th>2</th>\n",
       "      <td>5</td>\n",
       "      <td>0.074627</td>\n",
       "      <td>0.014925</td>\n",
       "      <td>0.044776</td>\n",
       "      <td>0.500000</td>\n",
       "      <td>0.100000</td>\n",
       "      <td>0.300000</td>\n",
       "      <td>0</td>\n",
       "      <td>4.833333</td>\n",
       "      <td>0.000000</td>\n",
       "    </tr>\n",
       "    <tr>\n",
       "      <th>3</th>\n",
       "      <td>4</td>\n",
       "      <td>0.070175</td>\n",
       "      <td>0.000000</td>\n",
       "      <td>0.052632</td>\n",
       "      <td>0.444444</td>\n",
       "      <td>0.000000</td>\n",
       "      <td>0.333333</td>\n",
       "      <td>0</td>\n",
       "      <td>4.900000</td>\n",
       "      <td>0.000000</td>\n",
       "    </tr>\n",
       "    <tr>\n",
       "      <th>4</th>\n",
       "      <td>5</td>\n",
       "      <td>0.064935</td>\n",
       "      <td>0.025974</td>\n",
       "      <td>0.025974</td>\n",
       "      <td>0.333333</td>\n",
       "      <td>0.133333</td>\n",
       "      <td>0.133333</td>\n",
       "      <td>0</td>\n",
       "      <td>3.937500</td>\n",
       "      <td>0.000000</td>\n",
       "    </tr>\n",
       "    <tr>\n",
       "      <th>5</th>\n",
       "      <td>3</td>\n",
       "      <td>0.041667</td>\n",
       "      <td>0.013889</td>\n",
       "      <td>0.027778</td>\n",
       "      <td>0.300000</td>\n",
       "      <td>0.100000</td>\n",
       "      <td>0.200000</td>\n",
       "      <td>0</td>\n",
       "      <td>5.250000</td>\n",
       "      <td>10.000000</td>\n",
       "    </tr>\n",
       "    <tr>\n",
       "      <th>6</th>\n",
       "      <td>2</td>\n",
       "      <td>0.017699</td>\n",
       "      <td>0.035398</td>\n",
       "      <td>0.044248</td>\n",
       "      <td>0.111111</td>\n",
       "      <td>0.222222</td>\n",
       "      <td>0.277778</td>\n",
       "      <td>0</td>\n",
       "      <td>4.800000</td>\n",
       "      <td>5.555556</td>\n",
       "    </tr>\n",
       "    <tr>\n",
       "      <th>7</th>\n",
       "      <td>2</td>\n",
       "      <td>0.028986</td>\n",
       "      <td>0.028986</td>\n",
       "      <td>0.057971</td>\n",
       "      <td>0.142857</td>\n",
       "      <td>0.142857</td>\n",
       "      <td>0.285714</td>\n",
       "      <td>0</td>\n",
       "      <td>3.500000</td>\n",
       "      <td>7.142857</td>\n",
       "    </tr>\n",
       "  </tbody>\n",
       "</table>\n",
       "</div>"
      ],
      "text/plain": [
       "   nouns  nouns_vs_length  adjectives_vs_length  verbs_vs_length  \\\n",
       "0      4         0.055556              0.000000         0.041667   \n",
       "1      2         0.024691              0.000000         0.074074   \n",
       "2      5         0.074627              0.014925         0.044776   \n",
       "3      4         0.070175              0.000000         0.052632   \n",
       "4      5         0.064935              0.025974         0.025974   \n",
       "5      3         0.041667              0.013889         0.027778   \n",
       "6      2         0.017699              0.035398         0.044248   \n",
       "7      2         0.028986              0.028986         0.057971   \n",
       "\n",
       "   nouns_vs_words  adjectives_vs_words  verbs_vs_words  count_words_title  \\\n",
       "0        0.307692             0.000000        0.230769                  0   \n",
       "1        0.125000             0.000000        0.375000                  0   \n",
       "2        0.500000             0.100000        0.300000                  0   \n",
       "3        0.444444             0.000000        0.333333                  0   \n",
       "4        0.333333             0.133333        0.133333                  0   \n",
       "5        0.300000             0.100000        0.200000                  0   \n",
       "6        0.111111             0.222222        0.277778                  0   \n",
       "7        0.142857             0.142857        0.285714                  0   \n",
       "\n",
       "   mean_word_len  punct_percent  \n",
       "0       4.285714       0.000000  \n",
       "1       3.666667       6.250000  \n",
       "2       4.833333       0.000000  \n",
       "3       4.900000       0.000000  \n",
       "4       3.937500       0.000000  \n",
       "5       5.250000      10.000000  \n",
       "6       4.800000       5.555556  \n",
       "7       3.500000       7.142857  "
      ]
     },
     "execution_count": 55,
     "metadata": {},
     "output_type": "execute_result"
    }
   ],
   "source": [
    "train[['nouns','nouns_vs_length','adjectives_vs_length','verbs_vs_length','nouns_vs_words','adjectives_vs_words','verbs_vs_words','count_words_title','mean_word_len','punct_percent']].head(8)"
   ]
  },
  {
   "cell_type": "markdown",
   "metadata": {
    "_uuid": "974e577f616432e0c2b9dbd60e24e29b1b6a6b10"
   },
   "source": [
    "# CORRELATION MATRIX:"
   ]
  },
  {
   "cell_type": "code",
   "execution_count": 56,
   "metadata": {
    "_uuid": "50890fa7c141fa6732c5a7f8ba5d4d78c1af0e57"
   },
   "outputs": [
    {
     "data": {
      "image/png": "[encoded data removed]",
      "text/plain": [
       "<Figure size 1440x1080 with 2 Axes>"
      ]
     },
     "metadata": {},
     "output_type": "display_data"
    }
   ],
   "source": [
    "f, ax = plt.subplots(figsize= [20,15])\n",
    "sns.heatmap(train.corr(), annot=True, fmt=\".2f\", ax=ax, \n",
    "            cbar_kws={'label': 'Correlation Coefficient'}, cmap='viridis')\n",
    "ax.set_title(\"Correlation Matrix for Insincerity and New Features\", fontsize=18)\n",
    "plt.show()"
   ]
  },
  {
   "cell_type": "code",
   "execution_count": 57,
   "metadata": {
    "_uuid": "71500fc0cfc3f0383b83e7cbffd6ac484e3b318d"
   },
   "outputs": [],
   "source": [
    "import re\n",
    "import nltk\n",
    "from nltk.stem.porter import PorterStemmer\n",
    "# Tutorial about Python regular expressions: https://pymotw.com/2/re/\n",
    "import string\n",
    "from nltk.corpus import stopwords\n",
    "from nltk.stem import PorterStemmer\n",
    "from nltk.stem.wordnet import WordNetLemmatizer\n",
    "def cleanhtml(sentence): #function to clean the word of any html-tags\n",
    "    cleanr = re.compile('<.*?>')\n",
    "    cleantext = re.sub(cleanr, ' ', sentence)\n",
    "    return cleantext\n",
    "def cleanpunc(sentence): #function to clean the word of any punctuation or special characters\n",
    "    cleaned = re.sub(r'[?|!|\\'|\"|#]',r'',sentence)\n",
    "    cleaned = re.sub(r'[.|,|)|(|\\|/]',r' ',cleaned)\n",
    "    return  cleaned\n",
    "stop = set(stopwords.words('english')) #set of stopwords\n",
    "a=set([\"not\",\"did\",\"didn't\",\"does\",\"doesn't\",\"don't\"])\n",
    "stop=stop.difference(a)\n",
    "\n",
    "i=0\n",
    "str1=' '\n",
    "final_string=[]\n",
    "s=''\n",
    "for sent in train['treated_question'].values:\n",
    "    filtered_sentence=[]\n",
    "    #print(sent);\n",
    "    sent=cleanhtml(sent) # remove HTMl tags\n",
    "    for w in sent.split():\n",
    "        for cleaned_words in cleanpunc(w).split():\n",
    "            if((cleaned_words.isalpha()) & (len(cleaned_words)>2)):    \n",
    "                if(cleaned_words.lower() not in stop):\n",
    "                    s=(cleaned_words.lower())\n",
    "                    filtered_sentence.append(s)\n",
    "                else:\n",
    "                    continue\n",
    "            else:\n",
    "                continue \n",
    "    str1 = ' '.join(filtered_sentence) #final string of cleaned words\n",
    "    final_string.append(str1)\n",
    "    i+=1"
   ]
  },
  {
   "cell_type": "code",
   "execution_count": 58,
   "metadata": {
    "_uuid": "97b637266d5f9b509ceddec6fd896924bdf3efae"
   },
   "outputs": [],
   "source": [
    "train['treated_question']=final_string #adding a column of CleanedText which displays the data after pre-processing of the review "
   ]
  },
  {
   "cell_type": "code",
   "execution_count": 59,
   "metadata": {
    "_uuid": "728db351774d2c4320526abf64b379fc0f4f56a0"
   },
   "outputs": [],
   "source": [
    "def ngram_extractor(text, n_gram):\n",
    "    token = [token for token in text.lower().split(\" \") if token != \"\" if token not in stop]\n",
    "    ngrams = zip(*[token[i:] for i in range(n_gram)])\n",
    "    return [\" \".join(ngram) for ngram in ngrams]\n",
    "\n",
    "# Function to generate a dataframe with n_gram and top max_row frequencies\n",
    "def generate_ngrams(df, col, n_gram, max_row):\n",
    "    temp_dict = defaultdict(int)\n",
    "    for question in df[col]:\n",
    "        for word in ngram_extractor(question, n_gram):\n",
    "            temp_dict[word] += 1\n",
    "    temp_df = pd.DataFrame(sorted(temp_dict.items(), key=lambda x: x[1])[::-1]).head(max_row)\n",
    "    temp_df.columns = [\"word\", \"wordcount\"]\n",
    "    return temp_df\n",
    "\n",
    "def comparison_plot(df_1,df_2,col_1,col_2, space):\n",
    "    fig, ax = plt.subplots(1, 2, figsize=(20,10))\n",
    "    \n",
    "    sns.barplot(x=col_2, y=col_1, data=df_1, ax=ax[0], color=\"palegreen\")\n",
    "    sns.barplot(x=col_2, y=col_1, data=df_2, ax=ax[1], color=\"palegreen\")\n",
    "\n",
    "    ax[0].set_xlabel('Word count', size=14, color=\"green\")\n",
    "    ax[0].set_ylabel('Words', size=14, color=\"green\")\n",
    "    ax[0].set_title('Top words in sincere questions', size=18, color=\"green\")\n",
    "\n",
    "    ax[1].set_xlabel('Word count', size=14, color=\"green\")\n",
    "    ax[1].set_ylabel('Words', size=14, color=\"green\")\n",
    "    ax[1].set_title('Top words in insincere questions', size=18, color=\"green\")\n",
    "\n",
    "    fig.subplots_adjust(wspace=space)\n",
    "    \n",
    "    plt.show()"
   ]
  },
  {
   "cell_type": "code",
   "execution_count": 60,
   "metadata": {
    "_uuid": "707c0917e2e3a833c9fed31f30575d6b88e0390f"
   },
   "outputs": [
    {
     "data": {
      "text/plain": [
       "['0',\n",
       " 'did',\n",
       " 'quebec',\n",
       " 'nationalists',\n",
       " 'see',\n",
       " 'province',\n",
       " 'nation\\n1',\n",
       " 'adopted',\n",
       " 'dog',\n",
       " 'would',\n",
       " 'encourage',\n",
       " 'people',\n",
       " 'adopt',\n",
       " 'not',\n",
       " 'shop\\n2',\n",
       " 'does',\n",
       " 'velocity',\n",
       " 'affect',\n",
       " 'time',\n",
       " 'does',\n",
       " 'velocity',\n",
       " 'affect...\\n3',\n",
       " 'did',\n",
       " 'otto',\n",
       " 'von',\n",
       " 'guericke',\n",
       " 'used',\n",
       " 'magdeburg',\n",
       " 'hemispheres\\n4',\n",
       " 'convert',\n",
       " 'montra',\n",
       " 'helicon',\n",
       " 'mountain',\n",
       " 'bike',\n",
       " 'changing',\n",
       " '...\\n5',\n",
       " 'gaza',\n",
       " 'slowly',\n",
       " 'becoming',\n",
       " 'auschwitz',\n",
       " 'dachau',\n",
       " 'treblink...\\n6',\n",
       " 'does',\n",
       " 'quora',\n",
       " 'automatically',\n",
       " 'ban',\n",
       " 'conservative',\n",
       " 'opin...\\n7',\n",
       " 'crazy',\n",
       " 'wash',\n",
       " 'wipe',\n",
       " 'groceries',\n",
       " 'germs',\n",
       " 'everywhere\\n8',\n",
       " 'thing',\n",
       " 'dressing',\n",
       " 'moderately',\n",
       " 'different',\n",
       " 'dressing',\n",
       " 'm...\\n9',\n",
       " 'ever',\n",
       " 'phase',\n",
       " 'wherein',\n",
       " 'became',\n",
       " 'ignorant',\n",
       " 'people',\n",
       " 'love...\\n10',\n",
       " 'say',\n",
       " 'feminism\\n11',\n",
       " 'calgary',\n",
       " 'flames',\n",
       " 'founded\\n12',\n",
       " 'dumbest',\n",
       " 'yet',\n",
       " 'possibly',\n",
       " 'true',\n",
       " 'explanation',\n",
       " 'trump',\n",
       " 'el...\\n13',\n",
       " 'use',\n",
       " 'external',\n",
       " 'hard',\n",
       " 'disk',\n",
       " 'well',\n",
       " 'data',\n",
       " 'storage',\n",
       " 'data',\n",
       " '...\\n14',\n",
       " 'living',\n",
       " 'home',\n",
       " 'boyfriend',\n",
       " 'would',\n",
       " 'love',\n",
       " 'boyfriend',\n",
       " 'hom...\\n15',\n",
       " 'know',\n",
       " 'bram',\n",
       " 'fischer',\n",
       " 'rivonia',\n",
       " 'trial\\n16',\n",
       " 'difficult',\n",
       " 'find',\n",
       " 'good',\n",
       " 'instructor',\n",
       " 'take',\n",
       " 'class',\n",
       " 'near\\n17',\n",
       " 'licked',\n",
       " 'skin',\n",
       " 'corpse\\n18',\n",
       " 'think',\n",
       " 'amazon',\n",
       " 'adopt',\n",
       " 'house',\n",
       " 'approach',\n",
       " 'manufacturin...\\n19',\n",
       " 'many',\n",
       " 'baronies',\n",
       " 'might',\n",
       " 'exist',\n",
       " 'within',\n",
       " 'county',\n",
       " 'palatine\\n20',\n",
       " 'know',\n",
       " 'whether',\n",
       " 'girl',\n",
       " 'done',\n",
       " 'sex',\n",
       " 'sex\\n21',\n",
       " 'become',\n",
       " 'fast',\n",
       " 'learner',\n",
       " 'professional',\n",
       " 'career',\n",
       " 'person...\\n22',\n",
       " 'united',\n",
       " 'states',\n",
       " 'become',\n",
       " 'largest',\n",
       " 'dictatorship',\n",
       " 'world\\n23',\n",
       " 'strangest',\n",
       " 'phenomenon',\n",
       " 'know',\n",
       " 'witnessed',\n",
       " 'generated',\n",
       " '...\\n24',\n",
       " 'leave',\n",
       " 'friends',\n",
       " 'find',\n",
       " 'new',\n",
       " 'ones\\n25',\n",
       " 'make',\n",
       " 'amazon',\n",
       " 'alexa',\n",
       " 'trigger',\n",
       " 'events',\n",
       " 'browser\\n26',\n",
       " 'not',\n",
       " 'two',\n",
       " 'democracies',\n",
       " 'never',\n",
       " 'ever',\n",
       " 'went',\n",
       " 'full',\n",
       " 'fledg...\\n27',\n",
       " 'top',\n",
       " 'cbse',\n",
       " 'months\\n28',\n",
       " 'know',\n",
       " 'visiting',\n",
       " 'mcleodganj',\n",
       " 'triund',\n",
       " 'trek\\n29',\n",
       " 'modern',\n",
       " 'military',\n",
       " 'submarines',\n",
       " 'reduce',\n",
       " 'noise',\n",
       " 'achiev...\\n30',\n",
       " 'babies',\n",
       " 'sweeter',\n",
       " 'parents',\n",
       " 'dark',\n",
       " 'skin',\n",
       " 'babies',\n",
       " 'light',\n",
       " '...\\n31',\n",
       " 'remove',\n",
       " 'black',\n",
       " 'heads',\n",
       " 'nose\\n32',\n",
       " 'lightsabers',\n",
       " 'created',\n",
       " 'individual',\n",
       " 'wielders',\n",
       " 'does',\n",
       " 's...\\n33',\n",
       " 'anyone',\n",
       " 'still',\n",
       " 'using',\n",
       " 'visual',\n",
       " 'basic',\n",
       " 'worth',\n",
       " 'learning...\\n34',\n",
       " 'sykes',\n",
       " 'enterprises\\n35',\n",
       " 'clear',\n",
       " 'relations',\n",
       " 'number',\n",
       " 'nodes',\n",
       " 'dofs',\n",
       " 'computationa...\\n36',\n",
       " 'package',\n",
       " 'still',\n",
       " 'isc',\n",
       " 'since',\n",
       " 'may',\n",
       " 'not',\n",
       " 'updated\\n37',\n",
       " 'does',\n",
       " 'great',\n",
       " 'wit',\n",
       " 'mean\\n38',\n",
       " 'experience',\n",
       " 'working',\n",
       " 'realtors',\n",
       " 'wish',\n",
       " 'realtors',\n",
       " 'did',\n",
       " '...\\n39',\n",
       " 'get',\n",
       " 'charge',\n",
       " 'contact\\n40',\n",
       " 'public',\n",
       " 'school',\n",
       " 'teachers',\n",
       " 'automatically',\n",
       " 'get',\n",
       " 'vacat...\\n41',\n",
       " 'role',\n",
       " 'technology',\n",
       " 'using',\n",
       " 'resource\\n42',\n",
       " 'opt',\n",
       " 'jaypee',\n",
       " 'university',\n",
       " 'guna',\n",
       " 'mechanical',\n",
       " 'engineering\\n43',\n",
       " 'download',\n",
       " 'microsoft',\n",
       " 'word',\n",
       " 'windows',\n",
       " 'hungarian\\n44',\n",
       " 'need',\n",
       " 'know',\n",
       " 'buying',\n",
       " 'car',\n",
       " 'south',\n",
       " 'africa',\n",
       " 'american\\n45',\n",
       " 'someone',\n",
       " 'did',\n",
       " 'not',\n",
       " 'enjoy',\n",
       " 'harry',\n",
       " 'potter',\n",
       " 'order',\n",
       " 'phoen...\\n46',\n",
       " 'writing',\n",
       " 'style',\n",
       " 'book',\n",
       " 'resist',\n",
       " 'prince',\n",
       " 'charming',\n",
       " 'lind...\\n47',\n",
       " 'mother',\n",
       " 'expects',\n",
       " 'memorize',\n",
       " 'usernames',\n",
       " 'passwords',\n",
       " 'ma...\\n48',\n",
       " 'movie',\n",
       " 'kid',\n",
       " 'fooled',\n",
       " 'thinking',\n",
       " 'germs',\n",
       " 'kill',\n",
       " 'lives',\n",
       " 'bub...\\n49',\n",
       " 'computer',\n",
       " 'science',\n",
       " 'student',\n",
       " 'buy',\n",
       " 'final',\n",
       " 'year',\n",
       " 'projec...\\n50',\n",
       " 'ways',\n",
       " 'shorten',\n",
       " 'period',\n",
       " 'risks\\n51',\n",
       " 'calead',\n",
       " 'leap',\n",
       " 'year\\n52',\n",
       " 'many',\n",
       " 'days',\n",
       " 'take',\n",
       " 'get',\n",
       " 'rid',\n",
       " 'spleen',\n",
       " 'enlargement\\n53',\n",
       " 'machine',\n",
       " 'learning',\n",
       " 'techniques',\n",
       " 'used',\n",
       " 'extract',\n",
       " 'metad...\\n54',\n",
       " 'does',\n",
       " 'work',\n",
       " 'girls',\n",
       " 'way',\n",
       " 'hitch',\n",
       " 'smith',\n",
       " 'asks',\n",
       " 'not',\n",
       " 'dance...\\n55',\n",
       " 'india',\n",
       " 'act',\n",
       " 'special\\n56',\n",
       " 'sports',\n",
       " 'not',\n",
       " 'like\\n57',\n",
       " 'dna',\n",
       " 'rna',\n",
       " 'compare',\n",
       " 'contrast\\n58',\n",
       " 'someone',\n",
       " 'breaks',\n",
       " 'house',\n",
       " 'shoot',\n",
       " 'kill',\n",
       " 'armed',\n",
       " 'knife',\n",
       " 'ha...\\n59',\n",
       " 'write',\n",
       " 'biography',\n",
       " 'gianni',\n",
       " 'versace\\n60',\n",
       " 'extroverted',\n",
       " 'better',\n",
       " 'faster',\n",
       " 'processing',\n",
       " 'expelling...\\n61',\n",
       " 'ever',\n",
       " 'recognized',\n",
       " 'place',\n",
       " 'far',\n",
       " 'home\\n62',\n",
       " 'price',\n",
       " 'comparison',\n",
       " 'websites',\n",
       " 'work',\n",
       " 'well',\n",
       " 'financial',\n",
       " '...\\n63',\n",
       " 'does',\n",
       " 'ragging',\n",
       " 'happen',\n",
       " 'nift',\n",
       " 'bangalore\\n64',\n",
       " 'many',\n",
       " 'bad',\n",
       " 'reviews',\n",
       " 'bahubali',\n",
       " 'imdb\\n65',\n",
       " 'swallowing',\n",
       " 'listerine',\n",
       " 'dangerous\\n66',\n",
       " 'theories',\n",
       " 'critical',\n",
       " 'thinking\\n67',\n",
       " 'biggest',\n",
       " 'problems',\n",
       " 'questions',\n",
       " 'doubts',\n",
       " 'come',\n",
       " 'across',\n",
       " '...\\n68',\n",
       " 'get',\n",
       " 'cheap',\n",
       " 'flights',\n",
       " 'edinburgh\\n69',\n",
       " 'china',\n",
       " 'new',\n",
       " 'chick\\n70',\n",
       " 'send',\n",
       " 'large',\n",
       " 'picture',\n",
       " 'files',\n",
       " 'email\\n71',\n",
       " 'does',\n",
       " 'not',\n",
       " 'ebay',\n",
       " 'allow',\n",
       " 'sale',\n",
       " 'world',\n",
       " 'war',\n",
       " 'purple',\n",
       " 'hear...\\n72',\n",
       " 'characteristics',\n",
       " 'define',\n",
       " 'isovolumetric',\n",
       " 'relaxation\\n73',\n",
       " 'work',\n",
       " 'cybersecurity',\n",
       " 'overseas\\n74',\n",
       " 'web',\n",
       " 'developer',\n",
       " 'refer',\n",
       " 'standard',\n",
       " 'practice\\n75',\n",
       " 'internet',\n",
       " 'become',\n",
       " 'problem',\n",
       " 'rely',\n",
       " 'everything\\n76',\n",
       " 'get',\n",
       " 'itc',\n",
       " 'charges',\n",
       " 'levied',\n",
       " 'banks\\n77',\n",
       " 'muhammed\\n78',\n",
       " 'services',\n",
       " 'provided',\n",
       " 'food',\n",
       " 'testing',\n",
       " 'lab',\n",
       " 'certified',\n",
       " 'r...\\n79',\n",
       " 'solo',\n",
       " 'whole',\n",
       " 'life',\n",
       " 'pretend',\n",
       " 'one',\n",
       " 'exists',\n",
       " 'thing',\n",
       " 'unwanted\\n80',\n",
       " 'change',\n",
       " 'owner',\n",
       " 'current',\n",
       " 'youtube',\n",
       " 'account',\n",
       " 'original',\n",
       " '...\\n81',\n",
       " 'archer',\n",
       " 'characters',\n",
       " 'animated',\n",
       " 'based',\n",
       " 'celebrities\\n82',\n",
       " 'best',\n",
       " 'way',\n",
       " 'propose',\n",
       " 'girl',\n",
       " 'without',\n",
       " 'annoying\\n83',\n",
       " 'million',\n",
       " 'get',\n",
       " 'solar',\n",
       " 'power\\n84',\n",
       " 'recommended',\n",
       " 'game',\n",
       " 'engines',\n",
       " 'beginning',\n",
       " 'python',\n",
       " 'prog...\\n85',\n",
       " 'thing',\n",
       " 'teleological',\n",
       " 'pantheism\\n86',\n",
       " 'best',\n",
       " 'college',\n",
       " 'aircraft',\n",
       " 'propulsion\\n87',\n",
       " 'countries',\n",
       " 'world',\n",
       " 'freedom',\n",
       " 'speech',\n",
       " 'par\\n88',\n",
       " 'lead',\n",
       " 'red',\n",
       " 'terror',\n",
       " 'ethiopia\\n89',\n",
       " 'best',\n",
       " 'pen',\n",
       " 'low',\n",
       " 'cost',\n",
       " 'sorts',\n",
       " 'things\\n90',\n",
       " 'trust',\n",
       " 'business',\n",
       " 'facebook',\n",
       " 'page',\n",
       " 'website\\n91',\n",
       " 'improve',\n",
       " 'piano',\n",
       " 'skill',\n",
       " 'keep',\n",
       " 'practicing',\n",
       " 'hard',\n",
       " 'piece...\\n92',\n",
       " 'wear',\n",
       " 'insulin',\n",
       " 'pump',\n",
       " 'lot',\n",
       " 'girls',\n",
       " 'not',\n",
       " 'like',\n",
       " 'nick',\n",
       " 'jona...\\n93',\n",
       " 'turkey',\n",
       " 'seperated',\n",
       " 'give',\n",
       " 'land',\n",
       " 'kurds',\n",
       " 'foreign',\n",
       " 'power...\\n94',\n",
       " 'cos',\n",
       " 'equals\\n95',\n",
       " 'sings',\n",
       " 'song',\n",
       " 'head\\n96',\n",
       " 'chronicled',\n",
       " 'replace',\n",
       " 'supply',\n",
       " 'chain\\n97',\n",
       " 'solve',\n",
       " 'equation',\n",
       " 'sin\\n98',\n",
       " 'demerits',\n",
       " 'excellence',\n",
       " 'academic',\n",
       " 'pursuits\\n99',\n",
       " 'many',\n",
       " 'indians',\n",
       " 'melbourne',\n",
       " 'australia\\n100',\n",
       " 'physicists',\n",
       " 'mathematicians',\n",
       " 'computer',\n",
       " 'scientists',\n",
       " '...\\n101',\n",
       " 'old',\n",
       " 'scriptures',\n",
       " 'eastern',\n",
       " 'cultures',\n",
       " 'appear',\n",
       " 'lost',\n",
       " 'cu...\\n102',\n",
       " 'know',\n",
       " 'even',\n",
       " 'hate',\n",
       " 'numbers\\n103',\n",
       " 'really',\n",
       " 'make',\n",
       " 'mind',\n",
       " 'get',\n",
       " 'rid',\n",
       " 'bad',\n",
       " 'habits',\n",
       " 'like',\n",
       " 'procr...\\n104',\n",
       " 'relationship',\n",
       " 'napoleon',\n",
       " 'ali',\n",
       " 'pasha',\n",
       " 'tepelene\\n105',\n",
       " 'presynaptic',\n",
       " 'neurons',\n",
       " 'found\\n106',\n",
       " 'ways',\n",
       " 'narcissist',\n",
       " 'mother',\n",
       " 'punish',\n",
       " 'child',\n",
       " 'going',\n",
       " 'cont...\\n107',\n",
       " 'start',\n",
       " 'freelancing',\n",
       " 'finishing',\n",
       " 'udacity',\n",
       " 'android',\n",
       " 'ba...\\n108',\n",
       " 'reason',\n",
       " 'really',\n",
       " 'need',\n",
       " 'bitcoin\\n109',\n",
       " 'good',\n",
       " 'songs',\n",
       " 'long',\n",
       " 'journey\\n110',\n",
       " 'blacks',\n",
       " 'support',\n",
       " 'school',\n",
       " 'choice',\n",
       " 'mandatory',\n",
       " 'sentenc...\\n111',\n",
       " 'added',\n",
       " 'thrice',\n",
       " 'rational',\n",
       " 'number',\n",
       " 'get\\n112',\n",
       " 'four',\n",
       " 'movement',\n",
       " 'symphony',\n",
       " 'typically',\n",
       " 'form',\n",
       " 'second',\n",
       " 'm...\\n113',\n",
       " 'various',\n",
       " 'stock',\n",
       " 'exchanges\\n114',\n",
       " 'gay',\n",
       " 'boy',\n",
       " 'love',\n",
       " 'cousin',\n",
       " 'boy',\n",
       " 'sexy',\n",
       " 'dont',\n",
       " 'know',\n",
       " 'hot',\n",
       " 'wan...\\n115',\n",
       " 'races',\n",
       " 'smallest',\n",
       " 'penis\\n116',\n",
       " 'terms',\n",
       " 'computer',\n",
       " 'architecture',\n",
       " 'microarchitecture',\n",
       " '...\\n117',\n",
       " 'iphone',\n",
       " 'users',\n",
       " 'psychologically',\n",
       " 'trapped',\n",
       " 'brand',\n",
       " 'nam...\\n118',\n",
       " 'long',\n",
       " 'one',\n",
       " 'semester',\n",
       " 'ontario\\n119',\n",
       " 'females',\n",
       " 'find',\n",
       " 'penises',\n",
       " 'ugly\\n120',\n",
       " 'best',\n",
       " 'ways',\n",
       " 'add',\n",
       " 'flour',\n",
       " 'homemade',\n",
       " 'chili\\n121',\n",
       " 'advice',\n",
       " 'anyone',\n",
       " 'wishes',\n",
       " 'accomplish\\n122',\n",
       " 'overcome',\n",
       " 'extreme',\n",
       " 'fear',\n",
       " 'insects',\n",
       " 'bugs\\n123',\n",
       " 'examples',\n",
       " 'durable',\n",
       " 'work',\n",
       " 'gloves\\n124',\n",
       " 'cars',\n",
       " 'move',\n",
       " 'miles',\n",
       " 'towards',\n",
       " 'move',\n",
       " 'miles',\n",
       " 'oppostie',\n",
       " 'di...\\n125',\n",
       " 'apps',\n",
       " 'use',\n",
       " 'work',\n",
       " 'given',\n",
       " 'day\\n126',\n",
       " 'take',\n",
       " 'maximum',\n",
       " 'headers',\n",
       " 'dataset',\n",
       " 'noticed',\n",
       " 'print',\n",
       " 'fir...\\n127',\n",
       " 'marry',\n",
       " 'american',\n",
       " 'woman',\n",
       " 'green',\n",
       " 'card',\n",
       " 'much',\n",
       " 'charge\\n128',\n",
       " 'companies',\n",
       " 'look',\n",
       " 'recruiting',\n",
       " 'expat',\n",
       " 'does',\n",
       " 'nationali...\\n129',\n",
       " 'transcranial',\n",
       " 'magnetic',\n",
       " 'stimulation',\n",
       " 'tms',\n",
       " 'used',\n",
       " 'inc...\\n130',\n",
       " 'did',\n",
       " 'george',\n",
       " 'washington',\n",
       " 'free',\n",
       " 'slaves',\n",
       " 'happened',\n",
       " 'rev...\\n131',\n",
       " 'time',\n",
       " 'come',\n",
       " 'india',\n",
       " 'adopt',\n",
       " 'one',\n",
       " 'child',\n",
       " 'policy\\n132',\n",
       " 'embassy',\n",
       " 'deny',\n",
       " 'citizen',\n",
       " 'entry',\n",
       " 'embassy\\n133',\n",
       " 'wear',\n",
       " 'party\\n134',\n",
       " 'test',\n",
       " 'energy',\n",
       " 'meter',\n",
       " 'periodically\\n135',\n",
       " 'best',\n",
       " 'stationery',\n",
       " 'home',\n",
       " 'office',\n",
       " 'regular',\n",
       " 'office\\n136',\n",
       " 'find',\n",
       " 'genuine',\n",
       " 'aviation',\n",
       " 'jobs\\n137',\n",
       " 'nonprofit',\n",
       " 'organizations',\n",
       " 'treat',\n",
       " 'employees',\n",
       " 'badly\\n138',\n",
       " 'procedure',\n",
       " 'invest',\n",
       " 'mutual',\n",
       " 'fund\\n139',\n",
       " 'osn\\n140',\n",
       " 'aesthetically',\n",
       " 'pleasing',\n",
       " 'shade',\n",
       " 'green\\n141',\n",
       " 'wise',\n",
       " 'com',\n",
       " 'calcutta',\n",
       " 'university',\n",
       " 'start',\n",
       " 'preparing',\n",
       " 'cat\\n142',\n",
       " 'difference',\n",
       " 'politician',\n",
       " 'leech\\n143',\n",
       " 'does',\n",
       " 'china',\n",
       " 'not',\n",
       " 'sponsor',\n",
       " 'regime',\n",
       " 'change',\n",
       " 'north',\n",
       " 'korea\\n144',\n",
       " 'europeans',\n",
       " 'say',\n",
       " 'superior',\n",
       " 'race',\n",
       " 'fact',\n",
       " 'took',\n",
       " 'years',\n",
       " 'mi...\\n145',\n",
       " 'does',\n",
       " 'cytoplasm',\n",
       " 'built',\n",
       " 'inside',\n",
       " 'lip\\n146',\n",
       " 'creating',\n",
       " 'app',\n",
       " 'using',\n",
       " 'multiple',\n",
       " 'programming',\n",
       " 'langua...\\n147',\n",
       " 'good',\n",
       " 'bad',\n",
       " 'neighborhoods',\n",
       " 'chuncheon',\n",
       " 'south',\n",
       " 'korea\\n148',\n",
       " 'cpss',\n",
       " 'pabt',\n",
       " 'varanasi\\n149',\n",
       " 'someone',\n",
       " 'wrongfully',\n",
       " 'jumped',\n",
       " 'conclusions\\n150',\n",
       " 'start',\n",
       " 'troubleshooting',\n",
       " 'hewlett',\n",
       " 'packard',\n",
       " 'printer\\n151',\n",
       " 'not',\n",
       " 'unfair',\n",
       " 'men',\n",
       " 'military',\n",
       " 'duty',\n",
       " 'south',\n",
       " 'korea\\n152',\n",
       " 'did',\n",
       " 'nsf',\n",
       " 'spinoff',\n",
       " 'nsfnet',\n",
       " 'helped',\n",
       " 'sun',\n",
       " 'microsystem\\n153',\n",
       " 'dangerous',\n",
       " 'south',\n",
       " 'africa',\n",
       " 'tourist\\n154',\n",
       " 'ever',\n",
       " 'known',\n",
       " 'someone',\n",
       " 'drastically',\n",
       " 'changed\\n155',\n",
       " 'university',\n",
       " 'louisville',\n",
       " 'not',\n",
       " 'listed',\n",
       " 'ranking\\n156',\n",
       " 'did',\n",
       " 'julius',\n",
       " 'caesar',\n",
       " 'bring',\n",
       " 'tyrannosaurus',\n",
       " 'rex',\n",
       " 'camp...\\n157',\n",
       " 'mercury',\n",
       " 'debilitated',\n",
       " 'dasa',\n",
       " 'simha',\n",
       " 'lagna\\n158',\n",
       " 'drivers',\n",
       " 'globalisation\\n159',\n",
       " 'people',\n",
       " 'high',\n",
       " 'emotional',\n",
       " 'intelligence\\n160',\n",
       " 'womens',\n",
       " 'mainstream',\n",
       " 'fashions',\n",
       " 'change',\n",
       " 'much',\n",
       " 'compare...\\n161',\n",
       " 'cause',\n",
       " 'magnetic',\n",
       " 'force',\n",
       " 'magnet\\n162',\n",
       " 'nike',\n",
       " 'football',\n",
       " 'towels',\n",
       " 'manufactured\\n163',\n",
       " 'would',\n",
       " 'win',\n",
       " 'anizara',\n",
       " 'powered',\n",
       " 'dragon',\n",
       " 'ball',\n",
       " 'super',\n",
       " 'an...\\n164',\n",
       " 'phone',\n",
       " 'best\\n165',\n",
       " 'fault',\n",
       " 'teen',\n",
       " 'daughter',\n",
       " 'bad',\n",
       " 'social',\n",
       " 'anxiety\\n166',\n",
       " 'sunil',\n",
       " 'raju',\n",
       " 'absent',\n",
       " 'today',\n",
       " 'appropriate\\n167',\n",
       " 'manner',\n",
       " 'republican',\n",
       " 'backing',\n",
       " 'states',\n",
       " 'rights',\n",
       " 'hypocr...\\n168',\n",
       " 'would',\n",
       " 'europeans',\n",
       " 'continue',\n",
       " 'participate',\n",
       " 'arab',\n",
       " 'war',\n",
       " '...\\n169',\n",
       " 'start',\n",
       " 'conversation',\n",
       " 'quora\\n170',\n",
       " 'php',\n",
       " 'framework',\n",
       " 'choose',\n",
       " 'website',\n",
       " 'like',\n",
       " 'olx\\n171',\n",
       " 'forensic',\n",
       " 'psychologist\\n172',\n",
       " 'better',\n",
       " 'student',\n",
       " 'school\\n173',\n",
       " 'does',\n",
       " 'fortnite',\n",
       " 'lag',\n",
       " 'everytime',\n",
       " 'fighting',\n",
       " 'someone\\n174',\n",
       " 'examples',\n",
       " 'neurotransmitters\\n175',\n",
       " 'puppies',\n",
       " 'hyper\\n176',\n",
       " 'jhargram',\n",
       " 'birbhum',\n",
       " 'safe',\n",
       " 'place',\n",
       " 'visit',\n",
       " 'winter',\n",
       " 'fear',\n",
       " '...\\n177',\n",
       " 'discover',\n",
       " 'one',\n",
       " 'thing',\n",
       " 'change',\n",
       " 'life',\n",
       " 'instantly\\n178',\n",
       " 'does',\n",
       " 'puppy',\n",
       " 'lick',\n",
       " 'paws\\n179',\n",
       " 'best',\n",
       " 'powerbank',\n",
       " 'iphone',\n",
       " 'india\\n180',\n",
       " 'average',\n",
       " 'nfl',\n",
       " 'team',\n",
       " 'obtained',\n",
       " 'kicker',\n",
       " 'could',\n",
       " 'consist...\\n181',\n",
       " 'kill\\n182',\n",
       " 'one',\n",
       " 'earn',\n",
       " 'trading',\n",
       " 'derivative',\n",
       " 'market\\n183',\n",
       " 'fastest',\n",
       " 'cars',\n",
       " 'world\\n184',\n",
       " 'know',\n",
       " 'god',\n",
       " 'timing\\n185',\n",
       " 'learn',\n",
       " 'html',\n",
       " 'css',\n",
       " 'become',\n",
       " 'good',\n",
       " 'front',\n",
       " 'end',\n",
       " 'developer\\n186',\n",
       " 'lingayats',\n",
       " 'bury',\n",
       " 'dead',\n",
       " 'rather',\n",
       " 'burn',\n",
       " 'like',\n",
       " 'hindus\\n187',\n",
       " 'therapist',\n",
       " 'help',\n",
       " 'regarding',\n",
       " 'mental',\n",
       " 'health',\n",
       " 'issues\\n188',\n",
       " 'remaining',\n",
       " 'useful',\n",
       " 'life',\n",
       " 'honda',\n",
       " 'step',\n",
       " ...]"
      ]
     },
     "execution_count": 60,
     "metadata": {},
     "output_type": "execute_result"
    }
   ],
   "source": [
    "ngram_extractor(train['treated_question'].to_string(),1)"
   ]
  },
  {
   "cell_type": "code",
   "execution_count": 61,
   "metadata": {
    "_uuid": "b543e0b8c46265a7aa623d29306ff11f36115cdc"
   },
   "outputs": [
    {
     "data": {
      "image/png": "[encoded data removed]",
      "text/plain": [
       "<Figure size 1440x720 with 2 Axes>"
      ]
     },
     "metadata": {},
     "output_type": "display_data"
    }
   ],
   "source": [
    "from collections import defaultdict\n",
    "sincire=generate_ngrams(train[train[\"target\"]==0],'treated_question',1,20)\n",
    "insincire=generate_ngrams(train[train[\"target\"]==1],'treated_question',1,20)\n",
    "comparison_plot(sincire,insincire,'word','wordcount', 0.25)"
   ]
  },
  {
   "cell_type": "code",
   "execution_count": 62,
   "metadata": {
    "_uuid": "dc0c84c4ee5326196af52dd18922c24df12c8d96"
   },
   "outputs": [
    {
     "data": {
      "image/png": "[encoded data removed]",
      "text/plain": [
       "<Figure size 1440x720 with 2 Axes>"
      ]
     },
     "metadata": {},
     "output_type": "display_data"
    }
   ],
   "source": [
    "from collections import defaultdict\n",
    "sincire=generate_ngrams(train[train[\"target\"]==0],'treated_question',2,20)\n",
    "insincire=generate_ngrams(train[train[\"target\"]==1],'treated_question',2,20)\n",
    "comparison_plot(sincire,insincire,'word','wordcount', 0.25)"
   ]
  },
  {
   "cell_type": "code",
   "execution_count": 63,
   "metadata": {
    "_uuid": "75c9b60d37ee3486607cae65671aac1b33af920d",
    "scrolled": false
   },
   "outputs": [
    {
     "data": {
      "image/png": "[encoded data removed]",
      "text/plain": [
       "<Figure size 1440x720 with 2 Axes>"
      ]
     },
     "metadata": {},
     "output_type": "display_data"
    }
   ],
   "source": [
    "from collections import defaultdict\n",
    "sincire=generate_ngrams(train[train[\"target\"]==0],'treated_question',3,20)\n",
    "insincire=generate_ngrams(train[train[\"target\"]==1],'treated_question',3,20)\n",
    "comparison_plot(sincire,insincire,'word','wordcount', 0.25)"
   ]
  },
  {
   "cell_type": "code",
   "execution_count": 1,
   "metadata": {
    "_uuid": "11f5ca6b8425cb95bd4efa0726e24c43dcd47431"
   },
   "outputs": [
    {
     "ename": "NameError",
     "evalue": "name 'train' is not defined",
     "output_type": "error",
     "traceback": [
      "\u001b[1;31m---------------------------------------------------------------------------\u001b[0m",
      "\u001b[1;31mNameError\u001b[0m                                 Traceback (most recent call last)",
      "\u001b[1;32m<ipython-input-1-ac462c11bb4a>\u001b[0m in \u001b[0;36m<module>\u001b[1;34m()\u001b[0m\n\u001b[0;32m      1\u001b[0m \u001b[1;32mfrom\u001b[0m \u001b[0msklearn\u001b[0m\u001b[1;33m.\u001b[0m\u001b[0mmodel_selection\u001b[0m \u001b[1;32mimport\u001b[0m \u001b[0mtrain_test_split\u001b[0m\u001b[1;33m\u001b[0m\u001b[0m\n\u001b[1;32m----> 2\u001b[1;33m \u001b[0mtrain\u001b[0m\u001b[1;33m,\u001b[0m \u001b[0mtest\u001b[0m \u001b[1;33m=\u001b[0m \u001b[0mtrain_test_split\u001b[0m\u001b[1;33m(\u001b[0m\u001b[0mtrain\u001b[0m\u001b[1;33m,\u001b[0m \u001b[0mtest_size\u001b[0m\u001b[1;33m=\u001b[0m\u001b[1;36m0.2\u001b[0m\u001b[1;33m)\u001b[0m\u001b[1;33m\u001b[0m\u001b[0m\n\u001b[0m",
      "\u001b[1;31mNameError\u001b[0m: name 'train' is not defined"
     ]
    }
   ],
   "source": [
    "from sklearn.model_selection import train_test_split\n",
    "train, test = train_test_split(train, test_size=0.2)"
   ]
  },
  {
   "cell_type": "code",
   "execution_count": null,
   "metadata": {
    "_uuid": "34aa5963ef5f017ed1fbe043894303af42dad777"
   },
   "outputs": [],
   "source": [
    "#from sklearn.model_selection import train_test_split\n",
    "#train, cv = train_test_split(train1, test_size=0.2)"
   ]
  },
  {
   "cell_type": "code",
   "execution_count": null,
   "metadata": {
    "_uuid": "9a656b5f3c44e011b23371cf79add99c04173a2b"
   },
   "outputs": [],
   "source": [
    "train.shape,test.shape"
   ]
  },
  {
   "cell_type": "code",
   "execution_count": null,
   "metadata": {
    "_uuid": "266ab4a794305b9e3fc3b0e4e9adbd0683d60f9f"
   },
   "outputs": [],
   "source": [
    "y_train=train['target']"
   ]
  },
  {
   "cell_type": "code",
   "execution_count": null,
   "metadata": {
    "_uuid": "7cdea3790b93655911ee200afd7e484d90f75d31"
   },
   "outputs": [],
   "source": [
    "x_train=train.drop(['target'],axis=1)"
   ]
  },
  {
   "cell_type": "code",
   "execution_count": null,
   "metadata": {
    "_uuid": "fb877a869cfd2367fd69e77d6409580e27dc7536"
   },
   "outputs": [],
   "source": [
    "#y_cv=cv['target']\n",
    "#x_cv=cv.drop(['target'],axis=1)\n",
    "y_test=test['target']\n",
    "\n",
    "x_test=test.drop(['target'],axis=1)\n",
    "\n"
   ]
  },
  {
   "cell_type": "code",
   "execution_count": null,
   "metadata": {},
   "outputs": [],
   "source": [
    "print"
   ]
  },
  {
   "cell_type": "code",
   "execution_count": 70,
   "metadata": {
    "_uuid": "7f02a69af7d5940d96895551ac309ca8ba4cd834"
   },
   "outputs": [],
   "source": [
    "from sklearn.feature_extraction.text import TfidfVectorizer\n",
    "tf_idf_vect = TfidfVectorizer()\n",
    "reviews_tfidf = tf_idf_vect.fit_transform(x_train['treated_question'].values)\n",
    "#reviews_tfidf1 = tf_idf_vect.transform(x_cv['treated_question'].values)\n",
    "reviews_tfidf2 = tf_idf_vect.transform(x_test['treated_question'].values)"
   ]
  },
  {
   "cell_type": "code",
   "execution_count": 71,
   "metadata": {
    "_uuid": "f7251975f4c366ca208cd5dc38356c508c2dd0a2"
   },
   "outputs": [
    {
     "data": {
      "text/plain": [
       "((1044897, 158899), (261225, 158899))"
      ]
     },
     "execution_count": 71,
     "metadata": {},
     "output_type": "execute_result"
    }
   ],
   "source": [
    "reviews_tfidf.shape,reviews_tfidf2.shape"
   ]
  },
  {
   "cell_type": "code",
   "execution_count": 72,
   "metadata": {
    "_uuid": "2eff5668c6a31a4ca6ac4764789be7e9ee737f96"
   },
   "outputs": [
    {
     "name": "stdout",
     "output_type": "stream",
     "text": [
      "Fitting 2 folds for each of 7 candidates, totalling 14 fits\n"
     ]
    },
    {
     "name": "stderr",
     "output_type": "stream",
     "text": [
      "[Parallel(n_jobs=-1)]: Using backend LokyBackend with 4 concurrent workers.\n",
      "[Parallel(n_jobs=-1)]: Done  14 out of  14 | elapsed:    9.9s finished\n"
     ]
    },
    {
     "data": {
      "text/plain": [
       "GridSearchCV(cv=2, error_score='raise-deprecating',\n",
       "       estimator=BernoulliNB(alpha=1.0, binarize=0.0, class_prior=None, fit_prior=True),\n",
       "       fit_params=None, iid='warn', n_jobs=-1,\n",
       "       param_grid={'alpha': [1000, 100, 10, 1, 0.1, 0.01, 0.001]},\n",
       "       pre_dispatch='2*n_jobs', refit=True, return_train_score='warn',\n",
       "       scoring='f1', verbose=1)"
      ]
     },
     "execution_count": 72,
     "metadata": {},
     "output_type": "execute_result"
    }
   ],
   "source": [
    "from sklearn.model_selection import GridSearchCV\n",
    "from sklearn.naive_bayes import BernoulliNB\n",
    "\n",
    "nb = BernoulliNB()\n",
    "param_grid = {'alpha':[1000,100,10,1,0.1,0.01,0.001]} #params we need to try on classifier\n",
    "gsv = GridSearchCV(nb,param_grid,cv=2,verbose=1,n_jobs=-1,scoring='f1')\n",
    "gsv.fit(reviews_tfidf,y_train)\n"
   ]
  },
  {
   "cell_type": "code",
   "execution_count": 73,
   "metadata": {
    "_uuid": "467a0dcae40adb86ece576a033c33c0668568175"
   },
   "outputs": [
    {
     "name": "stdout",
     "output_type": "stream",
     "text": [
      "BernoulliNB(alpha=0.1, binarize=0.0, class_prior=None, fit_prior=True)\n",
      "0.5424854020788409\n"
     ]
    }
   ],
   "source": [
    "print(gsv.best_estimator_)\n",
    "print(gsv.score(reviews_tfidf2, y_test))"
   ]
  },
  {
   "cell_type": "code",
   "execution_count": 74,
   "metadata": {
    "_uuid": "1c7004f7f4370b97e7bab661c89b1e48a2cb468c"
   },
   "outputs": [
    {
     "data": {
      "text/plain": [
       "BernoulliNB(alpha=0.1, binarize=0.0, class_prior=None, fit_prior=True)"
      ]
     },
     "execution_count": 74,
     "metadata": {},
     "output_type": "execute_result"
    }
   ],
   "source": [
    "nb = BernoulliNB(alpha=0.1)\n",
    "nb.fit(reviews_tfidf,y_train)"
   ]
  },
  {
   "cell_type": "code",
   "execution_count": 76,
   "metadata": {
    "_uuid": "aa170fe7653be24ed59b3e557dd076b1ebb72125"
   },
   "outputs": [
    {
     "name": "stdout",
     "output_type": "stream",
     "text": [
      "Accuracy on test set: 92.771%\n",
      "Precision on test set: 0.448\n",
      "Recall on test set: 0.687\n",
      "F1-Score on test set: 0.542\n",
      "Confusion Matrix of test set:\n",
      " [ [TN  FP]\n",
      " [FN TP] ]\n",
      "\n"
     ]
    },
    {
     "data": {
      "text/plain": [
       "<matplotlib.axes._subplots.AxesSubplot at 0x7fb042d71320>"
      ]
     },
     "execution_count": 76,
     "metadata": {},
     "output_type": "execute_result"
    },
    {
     "data": {
      "image/png": "[encoded data removed]",
      "text/plain": [
       "<Figure size 432x288 with 2 Axes>"
      ]
     },
     "metadata": {},
     "output_type": "display_data"
    }
   ],
   "source": [
    "y_pred = nb.predict(reviews_tfidf2)\n",
    "print(\"Accuracy on test set: %0.3f%%\"%(accuracy_score(y_test, y_pred)*100))\n",
    "print(\"Precision on test set: %0.3f\"%(precision_score(y_test, y_pred)))\n",
    "print(\"Recall on test set: %0.3f\"%(recall_score(y_test, y_pred)))\n",
    "print(\"F1-Score on test set: %0.3f\"%(f1_score(y_test, y_pred)))\n",
    "print(\"Confusion Matrix of test set:\\n [ [TN  FP]\\n [FN TP] ]\\n\")\n",
    "\n",
    "\n",
    "df_cm = pd.DataFrame(confusion_matrix(y_test, y_pred), range(2),range(2))\n",
    "sns.set(font_scale=1.4)#for label size\n",
    "sns.heatmap(df_cm, annot=True,annot_kws={\"size\": 16}, fmt='g')"
   ]
  },
  {
   "cell_type": "code",
   "execution_count": null,
   "metadata": {
    "_uuid": "6526469b8f29926a2f4fefa920a7eabd82c94ea8"
   },
   "outputs": [],
   "source": []
  }
 ],
 "metadata": {
  "kernelspec": {
   "display_name": "Python 3",
   "language": "python",
   "name": "python3"
  },
  "language_info": {
   "codemirror_mode": {
    "name": "ipython",
    "version": 3
   },
   "file_extension": ".py",
   "mimetype": "text/x-python",
   "name": "python",
   "nbconvert_exporter": "python",
   "pygments_lexer": "ipython3",
   "version": "3.6.4"
  }
 },
 "nbformat": 4,
 "nbformat_minor": 1
}
